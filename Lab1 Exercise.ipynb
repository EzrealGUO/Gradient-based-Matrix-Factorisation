{
 "cells": [
  {
   "cell_type": "code",
   "execution_count": 1,
   "id": "b6f78fe7",
   "metadata": {},
   "outputs": [
    {
     "name": "stdout",
     "output_type": "stream",
     "text": [
      "Collecting package metadata (current_repodata.json): ...working... done\n",
      "Solving environment: ...working... done\n",
      "\n",
      "# All requested packages already installed.\n",
      "\n",
      "\n",
      "Note: you may need to restart the kernel to use updated packages.\n"
     ]
    }
   ],
   "source": [
    "conda install pytorch torchvision torchaudio cudatoolkit=10.2 -c pytorch"
   ]
  },
  {
   "cell_type": "code",
   "execution_count": 24,
   "id": "ca37525d",
   "metadata": {},
   "outputs": [],
   "source": [
    "import torch\n",
    "from typing import Tuple\n",
    "\n",
    "def sgd_factorise(A: torch.Tensor, rank: int, num_epochs=1000, lr = 0.01) ->Tuple[torch.Tensor, torch.tensor]:\n",
    "    N = num_epochs\n",
    "    m = A.size()[0]\n",
    "    n = A.size()[1]\n",
    "    r = rank\n",
    "    U = torch.randn((m,r))\n",
    "    V = torch.randn((n,r))\n",
    "    for epoch in range(N):\n",
    "        for r in range(m):\n",
    "            for c in range(n):\n",
    "                e = A[r][c] - U[r,:]@V[c,:].t()\n",
    "                U[r,:] += lr*e*V[c,:]\n",
    "                V[c,:] += lr*e*U[r,:]\n",
    "    return U, V     "
   ]
  },
  {
   "cell_type": "code",
   "execution_count": 135,
   "id": "ccde8fc0",
   "metadata": {},
   "outputs": [
    {
     "name": "stdout",
     "output_type": "stream",
     "text": [
      "U_: tensor([[ 0.5913, -0.4994],\n",
      "        [ 1.5092,  0.8254],\n",
      "        [ 1.9775,  0.1241]])\n",
      "V_: tensor([[ 1.4551,  1.2777],\n",
      "        [ 0.3416, -0.6369],\n",
      "        [ 1.0341,  0.5031]])\n",
      "A*: tensor([[ 0.2222,  0.5201,  0.3602],\n",
      "        [ 3.2506, -0.0101,  1.9759],\n",
      "        [ 3.0360,  0.5966,  2.1074]])\n",
      "A: tensor([[0.3374, 0.6005, 0.1735],\n",
      "        [3.3359, 0.0492, 1.8374],\n",
      "        [2.9407, 0.5301, 2.2620]])\n",
      "Error: tensor(0.1220)\n"
     ]
    }
   ],
   "source": [
    "A = torch.Tensor([[0.3374,0.6005,0.1735],[3.3359,0.0492,1.8374],[2.9407, 0.5301,2.2620]]) \n",
    "U_,V_ = sgd_factorise(A,2)\n",
    "print(\"U_:\",U_)\n",
    "print(\"V_:\",V_)\n",
    "print(\"A*:\",U_@V_.t())\n",
    "print(\"A:\",A)\n",
    "print(\"Error:\",torch.nn.functional.mse_loss(U_@V_.t(),A,reduction ='sum'))"
   ]
  },
  {
   "cell_type": "code",
   "execution_count": 138,
   "id": "b1d0b0aa",
   "metadata": {},
   "outputs": [
    {
     "name": "stdout",
     "output_type": "stream",
     "text": [
      "U: tensor([[-0.0801, -0.7448,  0.6625],\n",
      "        [-0.7103,  0.5090,  0.4863],\n",
      "        [-0.6994, -0.4316, -0.5697]])\n",
      "SS_ tensor([[5.3339, 0.0000, 0.0000],\n",
      "        [0.0000, 0.6959, 0.0000],\n",
      "        [0.0000, 0.0000, 0.0000]])\n",
      "V_T: tensor([[-0.8349,  0.2548,  0.4879],\n",
      "        [-0.0851, -0.9355,  0.3430],\n",
      "        [-0.5439, -0.2448, -0.8027]])\n",
      "A*: tensor([[ 0.2245,  0.5212,  0.3592],\n",
      "        [ 3.2530, -0.0090,  1.9737],\n",
      "        [ 3.0378,  0.5983,  2.1023]])\n",
      "A: tensor([[0.3374, 0.6005, 0.1735],\n",
      "        [3.3359, 0.0492, 1.8374],\n",
      "        [2.9407, 0.5301, 2.2620]])\n",
      "Error: tensor(0.1219)\n"
     ]
    }
   ],
   "source": [
    "import torch\n",
    "U,S,V_T = torch.svd(A)\n",
    "S[2] = 0\n",
    "SS_ = torch.diag(S)\n",
    "A_ = U@SS_@V_T.t()\n",
    "print(\"U:\",U)\n",
    "print(\"SS_\",SS_)\n",
    "print(\"V_T:\",V_T)\n",
    "print(\"A*:\",U@SS_@V_T.t())\n",
    "print(\"A:\",A)\n",
    "print(\"Error:\",torch.nn.functional.mse_loss(U@SS_@V_T.t(),A,reduction ='sum'))"
   ]
  },
  {
   "cell_type": "code",
   "execution_count": 10,
   "id": "4abbb6e7",
   "metadata": {},
   "outputs": [
    {
     "name": "stdout",
     "output_type": "stream",
     "text": [
      "S: tensor([5.3339, 0.6959, 0.3492])\n",
      "U_: tensor([[-0.0801, -0.7448,  0.6625],\n",
      "        [-0.7103,  0.5090,  0.4863],\n",
      "        [-0.6994, -0.4316, -0.5697]])\n",
      "V_T_: tensor([[-1.9281,  0.2126,  0.0000],\n",
      "        [-0.1965, -0.7804,  0.0000],\n",
      "        [-1.2561, -0.2042,  0.0000]], dtype=torch.float64)\n",
      "A*: tensor([[ 0.2245,  0.5212,  0.3592],\n",
      "        [ 3.2530, -0.0090,  1.9737],\n",
      "        [ 3.0378,  0.5983,  2.1023]], dtype=torch.float64)\n",
      "A: tensor([[0.3374, 0.6005, 0.1735],\n",
      "        [3.3359, 0.0492, 1.8374],\n",
      "        [2.9407, 0.5301, 2.2620]])\n",
      "Error: tensor(0.1219, dtype=torch.float64)\n"
     ]
    }
   ],
   "source": [
    "import torch\n",
    "from scipy.linalg import sqrtm\n",
    "U,S,V_T = torch.svd(A)\n",
    "print(\"S:\",S)\n",
    "S[2] = 0\n",
    "SS_ = torch.diag(S)\n",
    "U_ = U@sqrtm(SS_)\n",
    "V_T_ = V_T@sqrtm(SS_)\n",
    "A_ = U_@V_T_.t()\n",
    "print(\"U_:\",U)\n",
    "print(\"V_T_:\",V_T_)\n",
    "print(\"A*:\",A_)\n",
    "print(\"A:\",A)\n",
    "print(\"Error:\",torch.nn.functional.mse_loss(A_,A,reduction ='sum'))"
   ]
  },
  {
   "cell_type": "code",
   "execution_count": 139,
   "id": "9212fca7",
   "metadata": {},
   "outputs": [],
   "source": [
    "def sgd_factorise_masked(A: torch.Tensor, M:torch.Tensor, rank: int, num_epochs=1000, lr = 0.01) ->Tuple[torch.Tensor, torch.tensor]:\n",
    "    N = num_epochs\n",
    "    m = A.size()[0]\n",
    "    n = A.size()[1]\n",
    "    r = rank\n",
    "    U = torch.randn((m,r))\n",
    "    V = torch.randn((n,r))\n",
    "#     U = torch.zeros()\n",
    "    \n",
    "    for epoch in range(N):\n",
    "#         e = A - U@V.t()\n",
    "        for r in range(m):\n",
    "            for c in range(n):\n",
    "                if M[r][c] == 1:\n",
    "                    e = A[r][c] - U[r,:]@V[c,:].t()\n",
    "                    U[r,:] += lr*e*V[c,:]\n",
    "                    V[c,:] += lr*e*U[r,:]\n",
    "                else:\n",
    "                    continue            \n",
    "    return U, V "
   ]
  },
  {
   "cell_type": "code",
   "execution_count": 377,
   "id": "9e5be0bc",
   "metadata": {},
   "outputs": [
    {
     "name": "stdout",
     "output_type": "stream",
     "text": [
      "U__: tensor([[-0.0023,  0.2080],\n",
      "        [ 1.1480,  1.0990],\n",
      "        [ 1.1147,  1.3024]])\n",
      "V__: tensor([[ 1.6743,  0.8307],\n",
      "        [-1.4381,  1.5634],\n",
      "        [-0.4038,  2.0792]])\n",
      "A**: tensor([[0.1690, 0.3284, 0.4334],\n",
      "        [2.8350, 0.0671, 1.8215],\n",
      "        [2.9481, 0.4330, 2.2577]])\n",
      "A: tensor([[0.3374, 0.6005, 0.1735],\n",
      "        [3.3359, 0.0492, 1.8374],\n",
      "        [2.9407, 0.5301, 2.2620]])\n",
      "Error: tensor(0.4309)\n"
     ]
    }
   ],
   "source": [
    "A = torch.Tensor([[0.3374,0.6005,0.1735],[3.3359,0.0492,1.8374],[2.9407, 0.5301,2.2620]]) \n",
    "M = torch.Tensor([[1,1,1],[0,1,1],[1,0,1]]) \n",
    "U__,V__ = sgd_factorise_masked(A,M,2)\n",
    "print(\"U__:\",U__)\n",
    "print(\"V__:\",V__)\n",
    "print(\"A**:\",U__@V__.t())\n",
    "print(\"A:\",A)\n",
    "print(\"Error:\",torch.nn.functional.mse_loss(U__@V__.t(),A,reduction ='sum'))"
   ]
  },
  {
   "cell_type": "code",
   "execution_count": 345,
   "id": "694dd6a7",
   "metadata": {},
   "outputs": [
    {
     "name": "stdout",
     "output_type": "stream",
     "text": [
      "tensor([[ 0.2223,  0.5201,  0.3602],\n",
      "        [ 3.2507, -0.0102,  1.9759],\n",
      "        [ 3.0360,  0.5965,  2.1074]])\n",
      "Error: tensor(0.1220)\n"
     ]
    }
   ],
   "source": [
    "U__= torch.Tensor([[ 0.5913, -0.4994],\n",
    "        [ 1.5092,  0.8254],\n",
    "        [ 1.9775,  0.1241]])\n",
    "V__= torch.Tensor([[ 1.4551,  1.2777],\n",
    "        [ 0.3416, -0.6369],\n",
    "        [ 1.0341,  0.5031]])\n",
    "print(U__@V__.t())\n",
    "print(\"Error:\",torch.nn.functional.mse_loss(U__@V__.t(),A,reduction ='sum'))"
   ]
  },
  {
   "cell_type": "code",
   "execution_count": null,
   "id": "a80176f8",
   "metadata": {},
   "outputs": [],
   "source": []
  }
 ],
 "metadata": {
  "kernelspec": {
   "display_name": "Python 3",
   "language": "python",
   "name": "python3"
  },
  "language_info": {
   "codemirror_mode": {
    "name": "ipython",
    "version": 3
   },
   "file_extension": ".py",
   "mimetype": "text/x-python",
   "name": "python",
   "nbconvert_exporter": "python",
   "pygments_lexer": "ipython3",
   "version": "3.8.8"
  }
 },
 "nbformat": 4,
 "nbformat_minor": 5
}
