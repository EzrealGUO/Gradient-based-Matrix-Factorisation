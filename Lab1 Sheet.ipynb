{
 "cells": [
  {
   "cell_type": "markdown",
   "id": "16d1daa0",
   "metadata": {},
   "source": [
    "# Part 1: Linear Regression"
   ]
  },
  {
   "cell_type": "code",
   "execution_count": 1,
   "id": "c596aa7c",
   "metadata": {},
   "outputs": [],
   "source": [
    "# Execute this code block to install dependencies when running on colab\n",
    "try:\n",
    "    import torch\n",
    "except:\n",
    "    from os.path import exists\n",
    "    from wheel.pep425tags import get_abbr_impl, get_impl_ver, get_abi_tag\n",
    "    platform = '{}{}-{}'.format(get_abbr_impl(), get_impl_ver(), get_abi_tag())\n",
    "    cuda_output = !ldconfig -p|grep cudart.so|sed -e 's/.*\\.\\([0-9]*\\)\\.\\([0-9]*\\)$/cu\\1\\2/'\n",
    "    accelerator = cuda_output[0] if exists('/dev/nvidia0') else 'cpu'\n",
    "\n",
    "    !pip install -q http://download.pytorch.org/whl/{accelerator}/torch-1.0.0-{platform}-linux_x86_64.whl torchvision"
   ]
  },
  {
   "cell_type": "markdown",
   "id": "c58b67fe",
   "metadata": {},
   "source": [
    "## Getting started \n",
    "\n",
    "At its heart, PyTorch is just a library for manipulating tensors. We're going to start learning how to use \n",
    "PyTorch by looking at how we can implement simple linear regression. \n",
    "\n",
    "Code speaks better than words, so lets start by looking at a bit of pytorch code to generate some 2d data to regress:"
   ]
  },
  {
   "cell_type": "code",
   "execution_count": 2,
   "id": "1727e9db",
   "metadata": {},
   "outputs": [],
   "source": [
    "import torch\n",
    "\n",
    "# Generate some data points on a straight line perturbed with Gaussian noise\n",
    "N = 1000 # number of points\n",
    "theta_true = torch.Tensor([[1.5], [2.0]]) # true parameters of the line\n",
    "\n",
    "X = torch.rand(N, 2) \n",
    "X[:, 1] = 1.0\n",
    "y = X @ theta_true + 0.1 * torch.randn(N, 1) \n",
    "# Note that just like in numpy '@' represents matrix multiplication and A@B is equivalent to torch.mm(A, B) "
   ]
  },
  {
   "cell_type": "markdown",
   "id": "82c78198",
   "metadata": {},
   "source": [
    "The above code generates $(x,y)$ data according to $y = 1.5x + 2$, with the $x$'s chosen from a uniform distribution. The $y$'s are additionally purturbed by adding an amount $0.1z$, where $z\\sim \\mathcal{N}(0,1)$ is a sample from a standard normal distribution. \n",
    "\n",
    "Note that we represent our $x$'s as a two-dimensional (row) vector with a 1 in the second element so that the offset can be rolled into the matrix multiplication for efficiency:\n",
    "\n",
    "\\begin{align}\n",
    "    y &= \\mathbf{X}\\begin{bmatrix}\n",
    "           1.5 \\\\\n",
    "           2\n",
    "         \\end{bmatrix}\n",
    "  \\end{align}\n",
    "\n",
    "Let's use `matplotlib` to draw a scatter so we can be sure of what our data looks like:"
   ]
  },
  {
   "cell_type": "code",
   "execution_count": 3,
   "id": "da4f2d73",
   "metadata": {},
   "outputs": [
    {
     "data": {
      "image/png": "[encoded data removed]",
      "text/plain": [
       "<Figure size 432x288 with 1 Axes>"
      ]
     },
     "metadata": {
      "needs_background": "light"
     },
     "output_type": "display_data"
    }
   ],
   "source": [
    "%matplotlib inline\n",
    "import matplotlib.pyplot as plt\n",
    "\n",
    "plt.scatter(X[:,0].numpy(), y.numpy())\n",
    "plt.show()"
   ]
  },
  {
   "cell_type": "markdown",
   "id": "316c6061",
   "metadata": {},
   "source": [
    "__Make sure you understand how the code above is generating data; feel free to change the parameters to see what effect they have.__\n",
    "\n",
    "Now, lets consider the situation where we have been given the tensors $X$ and $y$ and wish to compute the regression parameters. Our model looks like $\\mathbf{y} = \\mathbf{X\\theta}$, and we wish to recover the parameters $\\theta$. \n",
    "\n",
    "As the problem is both overcomplete (only two data pairs are required to find $\\theta$), and the data is noisy, we can use the Moore-Penrose Pseudoinverse to find the least-squares solution to $\\theta$: $\\theta = \\mathbf{X^+y}$. PyTorch has a built-in pseudoinverse method (`pinverse`) that can do all the work for us:"
   ]
  },
  {
   "cell_type": "code",
   "execution_count": 5,
   "id": "a24518ee",
   "metadata": {},
   "outputs": [
    {
     "name": "stdout",
     "output_type": "stream",
     "text": [
      "tensor([[1.4986],\n",
      "        [2.0018]])\n"
     ]
    }
   ],
   "source": [
    "# direct solution using moore-penrose pseudo inverse\n",
    "X_inv = torch.pinverse(X)\n",
    "theta_pinv = torch.mm(X_inv, y)\n",
    "print(theta_pinv)"
   ]
  },
  {
   "cell_type": "markdown",
   "id": "28bfae54",
   "metadata": {},
   "source": [
    "Running the above code should give you a solution vector for $\\theta$ that is very similar to the true parameter vector (`theta_true`). "
   ]
  },
  {
   "cell_type": "markdown",
   "id": "0f1f7a98",
   "metadata": {},
   "source": [
    "## Exercise: computing the pseudoinverse from the Singular Value Decomposition.\n",
    "\n",
    "The standard way of computing the pseudoinverse is by using the Singular Value Decomposition (SVD). The SVD is defined as: $\\mathbf{X} = \\mathbf{U}\\Sigma\\mathbf{V}^\\top$. The pseudoinverse is thus $\\mathbf{X}^+ = \\mathbf{V}\\Sigma^{-1}\\mathbf{U}^\\top$ where $\\Sigma^{-1}$ is a diagonal matrix in which the reciprocal of the corresponding non-zero elements in $\\Sigma$ has been taken.\n",
    "\n",
    "__Use the code block below to compute the parameter vector using the SVD directly rather than the through the `pinverse` method.__ You need to store your manually computed pseudoinverse in `X_inv_svd`. Useful methods will be `torch.svd()` to compute the SVD, `[Tensor].t()` to transpose a matrix and `torch.diag()` to form a diagonal matrix from a vector."
   ]
  },
  {
   "cell_type": "code",
   "execution_count": 6,
   "id": "cdaad617",
   "metadata": {},
   "outputs": [
    {
     "name": "stdout",
     "output_type": "stream",
     "text": [
      "tensor([[0.7457, 1.0000],\n",
      "        [0.0638, 1.0000],\n",
      "        [0.1882, 1.0000],\n",
      "        ...,\n",
      "        [0.8005, 1.0000],\n",
      "        [0.5988, 1.0000],\n",
      "        [0.0663, 1.0000]])\n",
      "tensor([[-0.0347,  0.0230],\n",
      "        [-0.0256, -0.0509],\n",
      "        [-0.0273, -0.0374],\n",
      "        ...,\n",
      "        [-0.0354,  0.0289],\n",
      "        [-0.0327,  0.0071],\n",
      "        [-0.0257, -0.0506]])\n",
      "tensor([35.5793,  8.1489])\n",
      "tensor([[-0.4708,  0.8822],\n",
      "        [-0.8822, -0.4708]])\n",
      "torch.Size([1000, 2])\n",
      "torch.Size([1000, 2])\n",
      "torch.Size([2])\n",
      "torch.Size([2, 2])\n",
      "____________________________________\n",
      "tensor([[-0.4708, -0.8822],\n",
      "        [ 0.8822, -0.4708]])\n",
      "torch.Size([2, 2])\n",
      "tensor([[35.5793,  0.0000],\n",
      "        [ 0.0000,  8.1489]])\n",
      "tensor([[0.0281, 0.0000],\n",
      "        [0.0000, 0.1227]])\n",
      "torch.Size([2, 2])\n",
      "tensor([[-0.0347, -0.0256, -0.0273,  ..., -0.0354, -0.0327, -0.0257],\n",
      "        [ 0.0230, -0.0509, -0.0374,  ...,  0.0289,  0.0071, -0.0506]])\n",
      "torch.Size([2, 1000])\n",
      "tensor([[-0.0020,  0.0058,  0.0044,  ..., -0.0027, -0.0003,  0.0058],\n",
      "        [-0.0022,  0.0023,  0.0015,  ..., -0.0025, -0.0012,  0.0023]])\n",
      "tensor([[ 0.8287],\n",
      "        [-2.3593]])\n"
     ]
    }
   ],
   "source": [
    "# YOUR CODE HERE\n",
    "# raise NotImplementedError()\n",
    "uu,ss,vv = torch.svd(X)\n",
    "print(X)\n",
    "print(uu)\n",
    "print(ss)\n",
    "print(vv)\n",
    "print(X.size())\n",
    "print(uu.size())\n",
    "print(ss.size())\n",
    "print(vv.size())\n",
    "print('____________________________________')\n",
    "VV = vv.t()\n",
    "print(VV)\n",
    "print(VV.size())\n",
    "SS = torch.diag(ss)\n",
    "print(SS)\n",
    "SS= torch.pinverse(SS)\n",
    "print(SS)\n",
    "print(SS.size())\n",
    "UU = uu.t()\n",
    "print(UU)\n",
    "print(UU.size())\n",
    "X_inv_svd = torch.mm(torch.mm(VV,SS),UU)\n",
    "print(X_inv_svd)\n",
    "theta_pinv_svd = torch.mm(X_inv_svd, y)\n",
    "print(theta_pinv_svd)"
   ]
  },
  {
   "cell_type": "code",
   "execution_count": 6,
   "id": "d542dc25",
   "metadata": {},
   "outputs": [
    {
     "data": {
      "text/plain": [
       "tensor(False)"
      ]
     },
     "execution_count": 6,
     "metadata": {},
     "output_type": "execute_result"
    }
   ],
   "source": [
    "torch.all(torch.lt(torch.abs(torch.add(theta_pinv, -theta_pinv_svd)), 1e-6))"
   ]
  },
  {
   "cell_type": "markdown",
   "id": "f5db1571",
   "metadata": {},
   "source": [
    "## Gradient based Linear Regression\n",
    "\n",
    "Fundamentally, with linear regression we are trying to find a solution vector, $theta$ that minimises $f(\\theta) = 0.5\\|\\mathbf{X}\\theta - \\mathbf{y}\\|_2^2$. \n",
    "\n",
    "We've already seen how this can be minimised directly using the pseudoinverse, but it could also be minimised by using gradient descent: $\\theta \\gets \\theta - \\alpha f'(\\theta)$. (_Interesting aside_: SVD (and thus the pseudoinverse) can also be solved using gradient methods - in fact this becomes the only practical way for really large matrices.).\n",
    "\n",
    "__Use the following block to derive and write down the gradient, $f'(\\theta)$, of $f(\\theta)$__. Note that you can insert latex code by wrapping expressions in dollar symbols."
   ]
  },
  {
   "cell_type": "markdown",
   "id": "a56c8b53",
   "metadata": {},
   "source": [
    "__Now complete the following code block to implement your gradient as pytorch code:__"
   ]
  },
  {
   "cell_type": "code",
   "execution_count": 7,
   "id": "e4ca5e2b",
   "metadata": {},
   "outputs": [
    {
     "data": {
      "text/plain": [
       "True"
      ]
     },
     "execution_count": 7,
     "metadata": {},
     "output_type": "execute_result"
    }
   ],
   "source": [
    "def linear_regression_loss_grad(theta, X, y):\n",
    "    X0 = X.t()\n",
    "    grad  = torch.mm(X0,(torch.mm(X,theta)-y))\n",
    "    # theta, X and y have the same shape as used previously\n",
    "    return grad\n",
    "\n",
    "linear_regression_loss_grad(torch.zeros(2,1), X, y).shape == (2,1)"
   ]
  },
  {
   "cell_type": "markdown",
   "id": "3059b731",
   "metadata": {},
   "source": [
    "Now we can plug that gradient function into a basic gradient descent solver and check that the solution is close to what we get with the pseudoinverse:"
   ]
  },
  {
   "cell_type": "code",
   "execution_count": 8,
   "id": "caa6a0b7",
   "metadata": {},
   "outputs": [
    {
     "name": "stdout",
     "output_type": "stream",
     "text": [
      "tensor([[1.4986],\n",
      "        [2.0018]])\n"
     ]
    }
   ],
   "source": [
    "alpha = 0.001\n",
    "theta = torch.Tensor([[0], [0]])\n",
    "for e in range(0, 200):\n",
    "    gr = linear_regression_loss_grad(theta, X, y)\n",
    "    theta -= alpha * gr\n",
    "\n",
    "print(theta)"
   ]
  },
  {
   "cell_type": "markdown",
   "id": "0978cc58",
   "metadata": {},
   "source": [
    "## Real data\n",
    "\n",
    "Doing linear regression on synthetic data is a great way to understand how PyTorch works, but it isn't quite as satisfying as working with a real dataset. Let's now apply or understanding of computing linear regression parameters to a dataset of house prices in Boston.\n",
    "\n",
    "We'll load the dataset using scikit-learn and perform some manipulations in the following code block:"
   ]
  },
  {
   "cell_type": "code",
   "execution_count": 9,
   "id": "905f1823",
   "metadata": {},
   "outputs": [
    {
     "name": "stdout",
     "output_type": "stream",
     "text": [
      "X: torch.Size([506, 3])\n",
      "y: torch.Size([506, 1])\n"
     ]
    }
   ],
   "source": [
    "import pandas as pd\n",
    "import numpy as np\n",
    "data_url = \"http://lib.stat.cmu.edu/datasets/boston\"\n",
    "raw_df = pd.read_csv(data_url, sep=\"\\s+\", skiprows=22, header=None)\n",
    "data = np.hstack([raw_df.values[::2, :], raw_df.values[1::2, :2]])\n",
    "target = raw_df.values[1::2, 2]\n",
    "X = torch.Tensor(data) #convert to pytorch Tensors\n",
    "y = torch.Tensor(target)\n",
    "\n",
    "X = X[:, [2,5]] # We're just going to use features 2 and 5, rather than using all of of them\n",
    "X = torch.cat((X, torch.ones((X.shape[0], 1))), 1) # append a column of 1's to the X's\n",
    "y = y.reshape(-1, 1) # reshape y into a column vector\n",
    "print('X:', X.shape)\n",
    "print('y:', y.shape)\n",
    "\n",
    "# We're also going to break the data into a training set for computing the regression parameters\n",
    "# and a test set to evaluate the predictive ability of those parameters\n",
    "perm = torch.randperm(y.shape[0])\n",
    "X_train = X[perm[0:253], :]\n",
    "y_train = y[perm[0:253]]\n",
    "X_test = X[perm[253:], :]\n",
    "y_test = y[perm[253:]]"
   ]
  },
  {
   "cell_type": "markdown",
   "id": "fbe4ff42",
   "metadata": {},
   "source": [
    "__Use the following code block to compute the regression parameters using the training data in the variable `theta` by solving using the pseudoinverse directly:__"
   ]
  },
  {
   "cell_type": "code",
   "execution_count": 10,
   "id": "71de2d1a",
   "metadata": {},
   "outputs": [],
   "source": [
    "# compute the regression parameters in variable theta\n",
    "X_train_inv = torch.pinverse(X_train)\n",
    "theta = torch.mm(X_train_inv, y_train)"
   ]
  },
  {
   "cell_type": "markdown",
   "id": "0583cb4e",
   "metadata": {},
   "source": [
    "We can now print out the error achieved on the test set, as well as the parameter vector:"
   ]
  },
  {
   "cell_type": "code",
   "execution_count": 11,
   "id": "3069dcec",
   "metadata": {},
   "outputs": [
    {
     "data": {
      "text/plain": [
       "True"
      ]
     },
     "execution_count": 11,
     "metadata": {},
     "output_type": "execute_result"
    }
   ],
   "source": [
    "theta.shape == (3,1)"
   ]
  },
  {
   "cell_type": "code",
   "execution_count": 12,
   "id": "f6071093",
   "metadata": {},
   "outputs": [
    {
     "name": "stdout",
     "output_type": "stream",
     "text": [
      "Theta:  tensor([[ -0.3213,   6.2526, -13.1900]])\n",
      "MSE of test data:  tensor(35.1216)\n"
     ]
    }
   ],
   "source": [
    "print(\"Theta: \", theta.t())\n",
    "print(\"MSE of test data: \", torch.nn.functional.mse_loss(X_test @ theta, y_test))"
   ]
  },
  {
   "cell_type": "markdown",
   "id": "3eb8fc99",
   "metadata": {},
   "source": [
    "Now let's try using gradient descent:"
   ]
  },
  {
   "cell_type": "code",
   "execution_count": 24,
   "id": "9f2ddedc",
   "metadata": {},
   "outputs": [
    {
     "name": "stdout",
     "output_type": "stream",
     "text": [
      "Gradient Descent Theta:  tensor([[-0.4118,  4.5354, -1.3322]])\n",
      "MSE of test data:  tensor(40.6365)\n"
     ]
    }
   ],
   "source": [
    "alpha = 0.00001\n",
    "theta_gd = torch.rand((X_train.shape[1], 1))\n",
    "for e in range(0, 10000):\n",
    "    gr = linear_regression_loss_grad(theta_gd, X_train, y_train)\n",
    "    theta_gd -= alpha * gr\n",
    "\n",
    "print(\"Gradient Descent Theta: \", theta_gd.t())\n",
    "print(\"MSE of test data: \", torch.nn.functional.mse_loss(X_test @ theta_gd, y_test))"
   ]
  },
  {
   "cell_type": "markdown",
   "id": "37d099f5",
   "metadata": {},
   "source": [
    "__Use the following block to note down any observations you can make about the choice of learning rate and number of iterations in the above code. What factors do you think influence the choice?__\n",
    "\n",
    "*Alpha = 0.00001 is the best; bigger get stuck, smaller hard converging\n",
    "Iteration bigger, slower but better performance"
   ]
  },
  {
   "cell_type": "code",
   "execution_count": 14,
   "id": "857dc65a",
   "metadata": {},
   "outputs": [
    {
     "name": "stdout",
     "output_type": "stream",
     "text": [
      "Gradient Descent Theta:  tensor([[nan, nan, nan]])\n",
      "MSE of test data:  tensor(nan)\n"
     ]
    }
   ],
   "source": [
    "alpha = 0.001\n",
    "theta_gd = torch.rand((X_train.shape[1], 1))\n",
    "for e in range(0, 10000):\n",
    "    gr = linear_regression_loss_grad(theta_gd, X_train, y_train)\n",
    "    theta_gd -= alpha * gr\n",
    "\n",
    "print(\"Gradient Descent Theta: \", theta_gd.t())\n",
    "print(\"MSE of test data: \", torch.nn.functional.mse_loss(X_test @ theta_gd, y_test))"
   ]
  },
  {
   "cell_type": "code",
   "execution_count": 25,
   "id": "9e574baa",
   "metadata": {},
   "outputs": [
    {
     "name": "stdout",
     "output_type": "stream",
     "text": [
      "Gradient Descent Theta:  tensor([[nan, nan, nan]])\n",
      "MSE of test data:  tensor(nan)\n"
     ]
    }
   ],
   "source": [
    "alpha = 0.0001\n",
    "theta_gd = torch.rand((X_train.shape[1], 1))\n",
    "for e in range(0, 10000):\n",
    "    gr = linear_regression_loss_grad(theta_gd, X_train, y_train)\n",
    "    theta_gd -= alpha * gr\n",
    "\n",
    "print(\"Gradient Descent Theta: \", theta_gd.t())\n",
    "print(\"MSE of test data: \", torch.nn.functional.mse_loss(X_test @ theta_gd, y_test))"
   ]
  },
  {
   "cell_type": "code",
   "execution_count": 26,
   "id": "c02d5463",
   "metadata": {},
   "outputs": [
    {
     "name": "stdout",
     "output_type": "stream",
     "text": [
      "Gradient Descent Theta:  tensor([[-0.4039,  4.0540,  1.4259]])\n",
      "MSE of test data:  tensor(46.9519)\n"
     ]
    }
   ],
   "source": [
    "alpha = 0.0000001\n",
    "theta_gd = torch.rand((X_train.shape[1], 1))\n",
    "for e in range(0, 10000):\n",
    "    gr = linear_regression_loss_grad(theta_gd, X_train, y_train)\n",
    "    theta_gd -= alpha * gr\n",
    "\n",
    "print(\"Gradient Descent Theta: \", theta_gd.t())\n",
    "print(\"MSE of test data: \", torch.nn.functional.mse_loss(X_test @ theta_gd, y_test))"
   ]
  },
  {
   "cell_type": "code",
   "execution_count": 27,
   "id": "34310fa7",
   "metadata": {},
   "outputs": [
    {
     "name": "stdout",
     "output_type": "stream",
     "text": [
      "Gradient Descent Theta:  tensor([[nan, nan, nan]])\n",
      "MSE of test data:  tensor(nan)\n"
     ]
    }
   ],
   "source": [
    "alpha = 0.00005\n",
    "theta_gd = torch.rand((X_train.shape[1], 1))\n",
    "for e in range(0, 10000):\n",
    "    gr = linear_regression_loss_grad(theta_gd, X_train, y_train)\n",
    "    theta_gd -= alpha * gr\n",
    "\n",
    "print(\"Gradient Descent Theta: \", theta_gd.t())\n",
    "print(\"MSE of test data: \", torch.nn.functional.mse_loss(X_test @ theta_gd, y_test))"
   ]
  },
  {
   "cell_type": "code",
   "execution_count": 28,
   "id": "59b9e436",
   "metadata": {},
   "outputs": [
    {
     "name": "stdout",
     "output_type": "stream",
     "text": [
      "Gradient Descent Theta:  tensor([[ -0.2778,   8.2298, -25.9742]])\n",
      "MSE of test data:  tensor(42.0210)\n"
     ]
    }
   ],
   "source": [
    "alpha = 0.00001\n",
    "theta_gd = torch.rand((X_train.shape[1], 1))\n",
    "for e in range(0, 1000000):\n",
    "    gr = linear_regression_loss_grad(theta_gd, X_train, y_train)\n",
    "    theta_gd -= alpha * gr\n",
    "\n",
    "print(\"Gradient Descent Theta: \", theta_gd.t())\n",
    "print(\"MSE of test data: \", torch.nn.functional.mse_loss(X_test @ theta_gd, y_test))"
   ]
  },
  {
   "cell_type": "code",
   "execution_count": 29,
   "id": "29bb8253",
   "metadata": {},
   "outputs": [
    {
     "name": "stdout",
     "output_type": "stream",
     "text": [
      "Gradient Descent Theta:  tensor([[-0.4052,  4.1290,  0.9867]])\n",
      "MSE of test data:  tensor(46.6942)\n"
     ]
    }
   ],
   "source": [
    "alpha = 0.00001\n",
    "theta_gd = torch.rand((X_train.shape[1], 1))\n",
    "for e in range(0, 100):\n",
    "    gr = linear_regression_loss_grad(theta_gd, X_train, y_train)\n",
    "    theta_gd -= alpha * gr\n",
    "\n",
    "print(\"Gradient Descent Theta: \", theta_gd.t())\n",
    "print(\"MSE of test data: \", torch.nn.functional.mse_loss(X_test @ theta_gd, y_test))"
   ]
  },
  {
   "cell_type": "code",
   "execution_count": 21,
   "id": "192c59a2",
   "metadata": {},
   "outputs": [
    {
     "name": "stdout",
     "output_type": "stream",
     "text": [
      "Gradient Descent Theta:  tensor([[ -0.3215,   6.2491, -13.1660]])\n",
      "MSE of test data:  tensor(35.1301)\n"
     ]
    }
   ],
   "source": [
    "alpha = 0.00001\n",
    "theta_gd = torch.rand((X_train.shape[1], 1))\n",
    "for e in range(0, 1000000):\n",
    "    gr = linear_regression_loss_grad(theta_gd, X_train, y_train)\n",
    "    theta_gd -= alpha * gr\n",
    "\n",
    "print(\"Gradient Descent Theta: \", theta_gd.t())\n",
    "print(\"MSE of test data: \", torch.nn.functional.mse_loss(X_test @ theta_gd, y_test))"
   ]
  },
  {
   "cell_type": "markdown",
   "id": "f22b1cea",
   "metadata": {},
   "source": [
    "Finally, just so we can visualise what our model has learned, we can plot the predicted house prices (from both the direct solution and from gradient descent) along with the true value for each of the houses in the test set (ordered by increasing true value):"
   ]
  },
  {
   "cell_type": "code",
   "execution_count": 25,
   "id": "669491b3",
   "metadata": {},
   "outputs": [
    {
     "data": {
      "image/png": "[encoded data removed]",
      "text/plain": [
       "<Figure size 432x288 with 1 Axes>"
      ]
     },
     "metadata": {
      "needs_background": "light"
     },
     "output_type": "display_data"
    }
   ],
   "source": [
    "perm = torch.argsort(y_test, dim=0)\n",
    "plt.plot(y_test[perm[:,0]].numpy(), '.', label='True Prices')\n",
    "plt.plot((X_test[perm[:,0]] @ theta).numpy(), '.', label='Predicted (pinv)')\n",
    "plt.plot((X_test[perm[:,0]] @ theta_gd).numpy(), '+', label='Predicted (G.D.)')\n",
    "plt.xlabel('House Number')\n",
    "plt.ylabel('House Price ($,000s)')\n",
    "plt.legend()\n",
    "plt.show()"
   ]
  },
  {
   "cell_type": "markdown",
   "id": "006f0625",
   "metadata": {},
   "source": [
    "# Part 2: Logistic Regression and Gradient Checking"
   ]
  },
  {
   "cell_type": "markdown",
   "id": "98aba06f",
   "metadata": {},
   "source": [
    "In the first part of the lab we saw how to make predictions of continously varying values with a linear regression model. Lets now turn our focus to binary classification using a simple classification algorithm known as Logistic regression.\n",
    "\n",
    "In linear regression we tried to predict the value of $y$ for an example $\\mathbf{x}$ using a linear function $y=\\mathbf{x}^\\top\\theta$ (where $\\mathbf{x}$ and $\\theta$ are column-vectors). This will clearly not be a great solution for predicting binary-valued labels ($y\\in\\{0,1\\}$). In logistic regression we use a different hypothesis class to try to predict the probability that a given example belongs to the \"1\" class versus the probability that it belongs to the \"0\" class. Specifically, we will try to learn a function of the form:\n",
    "\n",
    "\\begin{align}\n",
    "P(y=1|\\mathbf{x}) &= \\frac{1}{1 + \\exp(-\\mathbf{x}^\\top\\theta)} \\equiv \\sigma(\\mathbf{x}^\\top\\theta),\\\\\n",
    "P(y=0|\\mathbf{x}) &= 1 - P(y=1|\\mathbf{x}).\n",
    "\\end{align}\n",
    " \n",
    "The function $\\sigma(z) \\equiv \\frac{1}{1 + \\exp(-z)}$ is called the \"sigmoid\" or \"logistic\" function. The sigmoid function squashes any real valued input into the range $[0,1]$ enabling us to interprete the output as a probability. Our goal is to search for a value of $\\theta$ so that the probability $P(y=1|\\mathbf{x})=\\sigma(\\mathbf{x}^\\top\\theta)$ is large when $\\mathbf{x}$ belongs to the \"1\" class and small when $\\mathbf{x}$ belongs to the \"0\" class (so that $P(y=0|\\mathbf{x})$ is large). \n",
    "\n",
    "With Linear Regression, the natural cost function was one that measured the sum of squared residuals (the difference between the predicted value and true value). With logisitic regression we have a probabilisitic model, so it makes sense that we use a function that measures the likelihood of the data given the model (note that we want to maximise this function rather than minimise it). As an aside, note that in the case of linear regression if we assume that the data has errors that are IID (independently and identically distributed) according to a Normal distribution, then it can be shown that the maximising the likelihood is exactly the same as minimising the sum of squared residuals. For logistic regression, the likelihood function for a single data point is:\n",
    "\n",
    "\\begin{align}\n",
    "p(y|\\mathbf{x}; \\theta) &= \\sigma(\\mathbf{x}^\\top\\theta)^y(1-\\sigma(\\mathbf{x}^\\top\\theta)^{(1-y)}.\n",
    "\\end{align}\n",
    "\n",
    "(Eliminating another term when y = 0 or 1)\n",
    "\n",
    "For a complete dataset of points $(y_i, \\mathbf{x}_i)$, then the complete likelihood is:\n",
    "\n",
    "\\begin{align}\n",
    "L(\\theta) &= \\prod_i \\sigma(\\mathbf{x}_i^\\top\\theta)^{y_i}(1-\\sigma(\\mathbf{x}_i^\\top\\theta)^{(1-y_i)}\n",
    "\\end{align}\n",
    "\n",
    "However, it is considerably easier to maximise the log-likelihood function:\n",
    "\n",
    "\\begin{align}\n",
    "\\mathcal{l}(\\theta) &= \\log L(\\theta) \\\\\n",
    "                    & = \\log \\prod_i \\sigma(\\mathbf{x}_i^\\top\\theta)^{y_i}(1-\\sigma(\\mathbf{x}_i^\\top\\theta)^{(1-y_i)} \\\\\n",
    "                    & = \\sum_i y_i \\log(\\sigma(\\mathbf{x}_i^\\top\\theta)) + (1-y_i) \\log(1-\\sigma(\\mathbf{x}_i^\\top\\theta))\n",
    "\\end{align}\n",
    "\n",
    "Clearly, maximising the log-likelihood is equivalent to minimising the negative log-likelihood. The negative of the log-likelihood function having the form $-\\sum_i y_i \\log(p) + (1-y_i) \\log(p)$, where p is a function returning the predicted probability of class \"1\", is often called the __\"Binary Cross Entropy\"__ function, __\"Binary Cross Entropy Loss\"__ or sometimes the __\"log loss\"__.\n",
    "\n",
    "For conciseness and computational efficiency, we can write the negative logistic regression log-likelihood function in matrix form. Assuming the $y_i$ are stored in a column vector $\\mathbf{y}$ and the data vectors $x_i$ in the __rows__ of a matrix $\\mathbf{X}$, then: \n",
    "\n",
    "\\begin{align}\n",
    "\\mathrm{NLL}(\\theta) & = -(\\mathbf{y}^\\top \\log(\\sigma(\\mathbf{X}\\theta)) + (1-\\mathbf{y})^\\top \\log(1-\\sigma(\\mathbf{X}\\theta)))\n",
    "\\end{align}\n",
    "\n",
    "The gradients of this function are given by:\n",
    "\n",
    "\\begin{align}\n",
    "\\nabla_\\theta \\mathrm{NLL}(\\theta) & = \\mathbf{X}^\\top(\\sigma(\\mathbf{X}\\theta) - \\mathbf{y})\n",
    "\\end{align}"
   ]
  },
  {
   "cell_type": "markdown",
   "id": "7f1064fb",
   "metadata": {},
   "source": [
    "__Use the box below to compute the gradients of the negative log-likelihood function $\\nabla_\\theta \\mathrm{NLL}(\\theta)$. You can use `torch.sigmoid()` to apply the sigmoid function.__"
   ]
  },
  {
   "cell_type": "code",
   "execution_count": 29,
   "id": "ee842c15",
   "metadata": {},
   "outputs": [],
   "source": [
    "import torch\n",
    "\n",
    "# we wouldn't normally do this, but for this lab we want to work in double precision\n",
    "# as we'll need the numerical accuracy later on for doing checks on our gradients:\n",
    "torch.set_default_dtype(torch.float64) \n",
    "\n",
    "def logistic_regression_loss_grad(theta, X, y):\n",
    "    # YOUR CODE HERE\n",
    "    grad = torch.mm(X.t(),(torch.sigmoid(X @ theta) - y))\n",
    "    return grad"
   ]
  },
  {
   "cell_type": "code",
   "execution_count": 30,
   "id": "41aa49ae",
   "metadata": {},
   "outputs": [
    {
     "data": {
      "text/plain": [
       "tensor([[True]])"
      ]
     },
     "execution_count": 30,
     "metadata": {},
     "output_type": "execute_result"
    }
   ],
   "source": [
    "theta = torch.zeros(1)\n",
    "X = torch.Tensor([[1]])\n",
    "y = torch.Tensor([[0]])\n",
    "logistic_regression_loss_grad(theta, X, y) == 0.5"
   ]
  },
  {
   "cell_type": "markdown",
   "id": "264d18f1",
   "metadata": {},
   "source": [
    "## Training a Logistic Regressor with real data\n",
    "\n",
    "We'll now try gradient descent using our gradient function on a real dataset from `scikit-learn` called `digits`. \n",
    "\n",
    "The `digits` dataset contains handwritten characters (much like the `MNIST` dataset that you may have heard of - we'll explore `MNIST` in a future lab). As logistic regression is a binary classifier, we'll just use the first 2 characters (0 and 1) from the `digits` dataset, and make our own training and test splits:"
   ]
  },
  {
   "cell_type": "code",
   "execution_count": 34,
   "id": "25316c11",
   "metadata": {},
   "outputs": [],
   "source": [
    "from sklearn.datasets import load_digits\n",
    "\n",
    "data, target = load_digits(n_class=2, return_X_y=True)\n",
    "X = torch.Tensor(data)\n",
    "y = torch.Tensor(target) #convert to pytorch Tensors\n",
    "X = torch.cat((X, torch.ones((X.shape[0], 1))), 1) # append a column of 1's to the X's\n",
    "y = y.reshape(-1, 1) # reshape y into a column vector\n",
    "\n",
    "# We're also going to break the data into a training set for computing the regression parameters\n",
    "# and a test set to evaluate the predictive ability of those parameters\n",
    "perm = torch.randperm(y.shape[0])\n",
    "X_train = X[perm[0:260], :]\n",
    "y_train = y[perm[0:260]]\n",
    "X_test = X[perm[260:], :]\n",
    "y_test = y[perm[260:]]"
   ]
  },
  {
   "cell_type": "markdown",
   "id": "ffa63ff8",
   "metadata": {},
   "source": [
    "Now we have the data, we can use our loss function to try and estimate the optimal parameters for the two-digit classification problem. We'll use `PyTorch`s `torch.nn.functional.binary_cross_entropy_with_logits` function to print out the Binary Cross Entropy of the training data at each iteration, and of the test data once the optimisation is complete. \n",
    "\n",
    "Note: `logits` refers to unscaled probabilities before the sigmoid is applied, so in the `binary_cross_entropy_with_logits` function we just pass in $\\mathbf{X}\\theta$. `PyTorch` does also have a `torch.nn.binary_cross_entropy` method that takes in probabilities, however, as we'll see when implementing neural networks in a later lab, we'll often choose to work with logits as they provide better numerical stability thanks to the _log-sum-exp_ trick. "
   ]
  },
  {
   "cell_type": "code",
   "execution_count": 35,
   "id": "4fc05f0b",
   "metadata": {},
   "outputs": [
    {
     "name": "stdout",
     "output_type": "stream",
     "text": [
      "torch.Size([260, 65])\n"
     ]
    }
   ],
   "source": [
    "print(X_train.size())"
   ]
  },
  {
   "cell_type": "code",
   "execution_count": 36,
   "id": "1f75a4a7",
   "metadata": {},
   "outputs": [
    {
     "name": "stdout",
     "output_type": "stream",
     "text": [
      "Epoch: 0  BCE of training data: tensor(70.6604)\n",
      "Epoch: 1  BCE of training data: tensor(40.9157)\n",
      "Epoch: 2  BCE of training data: tensor(10.6069)\n",
      "Epoch: 3  BCE of training data: tensor(0.0103)\n",
      "Epoch: 4  BCE of training data: tensor(0.0022)\n",
      "Epoch: 5  BCE of training data: tensor(0.0007)\n",
      "Epoch: 6  BCE of training data: tensor(0.0004)\n",
      "Epoch: 7  BCE of training data: tensor(0.0003)\n",
      "Epoch: 8  BCE of training data: tensor(0.0002)\n",
      "Epoch: 9  BCE of training data: tensor(0.0002)\n",
      "Gradient Descent Theta: tensor([[ 0.8178,  0.8849,  0.0442, -0.7175, -0.1383,  0.9468,  0.5034,  0.3890,\n",
      "          0.7860,  0.4214, -1.3169, -0.4351,  0.0959, -0.0233,  0.9525,  0.8439,\n",
      "          0.4454,  0.1152, -1.7166,  1.5928,  2.2634, -1.1212, -0.4840,  0.5561,\n",
      "          0.5700, -0.3865, -0.4834,  2.9374,  2.8723, -0.5896, -0.9949,  0.6594,\n",
      "          0.2673, -0.8247, -1.0694,  2.1128,  3.3307, -0.3576, -0.8857,  0.3952,\n",
      "          0.3675, -0.3407, -1.3731,  2.4717,  3.0764, -0.7557, -0.7338,  0.1468,\n",
      "          0.0074, -0.0255, -2.0130,  0.0352,  0.4573, -1.3613,  0.5467,  0.8400,\n",
      "          0.7493,  0.4311, -0.1557, -1.2196, -0.4641,  0.8509,  0.8106,  1.1021,\n",
      "          0.0718]])\n",
      "BCE of test data: tensor(2.3632e-11)\n"
     ]
    }
   ],
   "source": [
    "alpha = 0.001\n",
    "theta_gd = torch.rand((X_train.shape[1], 1))\n",
    "for e in range(0, 10):\n",
    "    gr = logistic_regression_loss_grad(theta_gd, X_train, y_train)\n",
    "    theta_gd -= alpha * gr\n",
    "    print(\"Epoch:\", e, \" BCE of training data:\", torch.nn.functional.binary_cross_entropy_with_logits(X_train @ theta_gd, y_train))\n",
    "\n",
    "print(\"Gradient Descent Theta:\", theta_gd.t())\n",
    "print(\"BCE of test data:\", torch.nn.functional.binary_cross_entropy_with_logits(X_test @ theta_gd, y_test))"
   ]
  },
  {
   "cell_type": "markdown",
   "id": "a3621fdb",
   "metadata": {},
   "source": [
    "What do you observe from running the above? "
   ]
  },
  {
   "cell_type": "markdown",
   "id": "f6a10cd7",
   "metadata": {},
   "source": [
    "## Gradient Checking\n",
    "\n",
    "How can we be sure that our gradient function was correct? We might have made an error in the analytical derivation or in the implementation of that derivation into code. Even though we observed the optimisation process on real data converge (hopefully!), you might have made a subtle error in the implementation...\n",
    "\n",
    "So far we have worked with relatively simple algorithms where it is straightforward to compute the objective function and its gradient with pen-and-paper, and then implement the necessary computations in PyTorch. For more complex models that we will see later, the gradient computation can be notoriously difficult to debug and get right. Sometimes a subtly buggy implementation will manage to learn something that can look surprisingly reasonable (while performing less well than a correct implementation). Thus, even with a buggy implementation, it may not at all be apparent that anything is amiss. In this section, we describe a method for numerically checking the derivatives computed by your code to make sure that your implementation is correct. Carrying out the derivative checking procedure described here will significantly increase your confidence in the correctness of your code.\n",
    "\n",
    "Suppose we want to minimize $J(\\theta)$ as a function of $\\theta$. For this example, suppose $J:\\mathbb{R}\\mapsto\\mathbb{R}$, so that $\\theta \\in \\mathbb{R}$. If we are using gradient descent (or other gradient-based optimisation function), then we usually have implemented some function $g(\\theta)$ that purportedly computes $\\frac{d}{d\\theta}J(\\theta)$.\n",
    "\n",
    "How can we check if our implementation of $g$ is correct?\n",
    "\n",
    "Recall the mathematical definition of the derivative is:\n",
    "\n",
    "\\begin{align}\n",
    "\\frac{d}{d\\theta}J(\\theta) = \\lim_{\\epsilon \\rightarrow 0}\n",
    "\\frac{J(\\theta+ \\epsilon) - J(\\theta-\\epsilon)}{2 \\epsilon}.\n",
    "\\end{align}\n",
    "\n",
    "Thus, at any specific value of $\\theta$, we can numerically approximate the derivative as follows:\n",
    "\n",
    "\\begin{align}\n",
    "\\frac{J(\\theta+{\\rm EPSILON}) - J(\\theta-{\\rm EPSILON})}{2 \\times {\\rm EPSILON}}\n",
    "\\end{align}\n",
    " \n",
    "In practice, we set ${\\rm EPSILON}$ to a small constant, say around $10^{−4}$. (There is a large range of values of EPSILON values that should work well, but we don’t set ${\\rm EPSILON}$ to be \"extremely\" small, say $10^{−20}$, as that would lead to numerical roundoff errors.)\n",
    "\n",
    "Thus, given a function $g(\\theta)$ that is supposedly computing $\\frac{d}{d\\theta}J(\\theta)$, we can now numerically verify its correctness by checking that\n",
    "\n",
    "\\begin{align}\n",
    "g(\\theta) \\approx\n",
    "\\frac{J(\\theta+{\\rm EPSILON}) - J(\\theta-{\\rm EPSILON})}{2 \\times {\\rm EPSILON}}.\n",
    "\\end{align}\n",
    " \n",
    "The degree to which these two values should approximate each other will depend on the details of $J$. But assuming ${\\rm EPSILON}=10^{−4}$, you’ll usually find that the left- and right-hand sides of the above will agree to at least 4 significant digits (and often many more).\n",
    "\n",
    "Now, consider the case where $\\theta \\in \\mathbb{R}^n$ is a vector rather than a single real number (so that we have $n$ parameters that we want to learn), and $J: \\mathbb{R}^n \\mapsto \\mathbb{R}$. We now generalize our derivative checking procedure to the case where $\\theta$ may be a vector (as in our linear regression and logistic regression examples).\n",
    "\n",
    "Suppose we have a function $g_i(\\theta)$ that purportedly computes $\\frac{\\partial}{\\partial\\theta_i}J(\\theta)$; we’d like to check if $g_i$ is outputting correct derivative values. Let $\\textstyle \\theta^{(i+)} = \\theta + {\\rm EPSILON} \\times \\vec{e}_i$, where\n",
    "\n",
    "\\begin{align}\n",
    "\\vec{e}_i = \\begin{bmatrix}0 \\\\ 0 \\\\ \\vdots \\\\ 1 \\\\ \\vdots \\\\ 0\\end{bmatrix}\n",
    "\\end{align}\n",
    "\n",
    "is the $i$-th basis vector (a vector of the same dimension as $\\theta$, with a \"1\" in the $i$-th position and \"0\"s everywhere else). So, $\\theta^{(i+)}$ is the same as $\\theta$, except its $i$-th element has been incremented by ${\\rm EPSILON}$. Similarly, let $\\theta^{(i−)}=\\theta−{\\rm EPSILON} \\times \\vec{e}_i$ be the corresponding vector with the $i$-th element decreased by ${\\rm EPSILON}$.\n",
    "\n",
    "We can now numerically verify $g_i(\\theta)$'s correctness by checking, for each $i$, that:\n",
    "\n",
    "\\begin{align}\n",
    "g_i(\\theta) \\approx\n",
    "\\frac{J(\\theta^{(i+)}) - J(\\theta^{(i-)})}{2 \\times {\\rm EPSILON}}.\n",
    "\\end{align}\n",
    "\n",
    "### Gradient checker code\n",
    "\n",
    "The following code block contains an implementation of the gradient checking proceedure described above. "
   ]
  },
  {
   "cell_type": "code",
   "execution_count": 54,
   "id": "e064950b",
   "metadata": {},
   "outputs": [],
   "source": [
    "from random import randrange\n",
    "\n",
    "def grad_check(f, x, analytic_grad, num_checks=10, h=1e-5):\n",
    "    sum_error = 0\n",
    "    for i in range(num_checks):\n",
    "        ix = tuple([randrange(m) for m in x.shape]) #randomly sample value to change\n",
    "\n",
    "        oldval = x[ix].item()\n",
    "        x[ix] = oldval + h # increment by h\n",
    "        fxph = f(x) # evaluate f(x + h)\n",
    "        x[ix] = oldval - h # increment by h\n",
    "        fxmh = f(x) # evaluate f(x - h)\n",
    "        x[ix] = oldval # reset\n",
    "\n",
    "        grad_numerical = (fxph - fxmh) / (2 * h)\n",
    "        grad_analytic = analytic_grad[ix]\n",
    "        rel_error = abs(grad_numerical - grad_analytic) / (abs(grad_numerical) + abs(grad_analytic) + 1e-8)\n",
    "        sum_error += rel_error\n",
    "        print('numerical: %f\\tanalytic: %f\\trelative error: %e' % (grad_numerical, grad_analytic, rel_error))\n",
    "    return sum_error / num_checks"
   ]
  },
  {
   "cell_type": "markdown",
   "id": "d15c609b",
   "metadata": {},
   "source": [
    "To use the gradient checker, we provide our analytical gradients, together with a function that computes the actual loss (rather than the gradients of the loss) and the parameters at which the gradient was computed:"
   ]
  },
  {
   "cell_type": "code",
   "execution_count": 55,
   "id": "425ad582",
   "metadata": {},
   "outputs": [
    {
     "name": "stdout",
     "output_type": "stream",
     "text": [
      "numerical: -231.144800\tanalytic: -231.144800\trelative error: 7.637085e-11\n",
      "numerical: 96.512932\tanalytic: 96.512932\trelative error: 6.578376e-12\n",
      "numerical: 4.632942\tanalytic: 4.632942\trelative error: 7.851553e-12\n",
      "numerical: 0.528250\tanalytic: 0.528250\trelative error: 9.163149e-11\n",
      "numerical: 96.512932\tanalytic: 96.512932\trelative error: 6.578376e-12\n",
      "numerical: 179.022446\tanalytic: 179.022446\trelative error: 1.451443e-10\n",
      "numerical: 87.635239\tanalytic: 87.635239\trelative error: 4.745448e-10\n",
      "numerical: 0.000000\tanalytic: 0.000000\trelative error: 0.000000e+00\n",
      "numerical: 0.169199\tanalytic: 0.169199\trelative error: 2.360763e-09\n",
      "numerical: 120.254724\tanalytic: 120.254724\trelative error: 2.385832e-10\n",
      "average error: tensor([[3.4080e-10]])\n"
     ]
    },
    {
     "data": {
      "text/plain": [
       "tensor([[True]])"
      ]
     },
     "execution_count": 55,
     "metadata": {},
     "output_type": "execute_result"
    }
   ],
   "source": [
    "#we'll use random parameters:\n",
    "theta = torch.rand_like(theta_gd)*0.001\n",
    "# and compute the analytic gradient (w.r.t the test data we loaded in this case)\n",
    "grad = logistic_regression_loss_grad(theta, X_test, y_test)\n",
    "\n",
    "# we need a function that computes the loss for a given theta (and implicitly the data)\n",
    "def func(th):\n",
    "    sigm = torch.sigmoid(X_test @ th)\n",
    "    f = -(y_test.t() @ torch.log(sigm) + (1 - y_test.t()) @ torch.log(1 - sigm));\n",
    "    return f\n",
    "\n",
    "# and run the gradient checker\n",
    "relerr = grad_check(func, theta, grad)\n",
    "print(\"average error:\", relerr)\n",
    "\n",
    "relerr < 1e-5"
   ]
  },
  {
   "cell_type": "markdown",
   "id": "18d0322f",
   "metadata": {},
   "source": [
    "Running the above, you should have a very small average error, and the relative error for each trial should also be a very small value."
   ]
  },
  {
   "cell_type": "markdown",
   "id": "61acb5b6",
   "metadata": {},
   "source": [
    "# Part 3: Softmax Regression"
   ]
  },
  {
   "cell_type": "markdown",
   "id": "d56f6824",
   "metadata": {},
   "source": [
    "In the second part of the lab we saw how to make a linear binary classifier using logisitic regression. In this  part of the lab we'll turn our attention to multi-class classification.\n",
    "\n",
    "Softmax regression (or multinomial logistic regression) is a generalisation of logistic regression to the case where we want to handle multiple classes. In logistic regression we assumed that the labels were binary: $y_i\\in \\{0,1\\}$. We used such a classifier to distinguish between two kinds of hand-written digits. Softmax regression allows us to handle $y_i \\in \\{1,\\dots,K\\}$ where $K$ is the number of classes.\n",
    "\n",
    "Recall that in logistic regression, we had a training set $\\{(\\mathbf{x}_1,y_1),\\dots,(\\mathbf{x}_m,y_m)\\}$ of $m$ labeled examples, where the input features are $\\mathbf{x}_i \\in \\mathbb{R}^n$. In logistic regression, our hypothesis took the form:\n",
    "\n",
    "\\begin{align}\n",
    "h_\\theta(\\mathbf{x}) &= \\frac{1}{1 + \\exp(-\\mathbf{x}^\\top\\theta)} \\equiv \\sigma(\\mathbf{x}^\\top\\theta)\n",
    "\\end{align}\n",
    "\n",
    "and the model parameters $\\theta$ were trained to minimise the cost function\n",
    "\n",
    "\\begin{align}\n",
    "J(\\theta) & = \\sum_i y_i \\log(\\sigma(\\mathbf{x}_i^\\top\\theta)) + (1-y_i) \\log(1-\\sigma(\\mathbf{x}_i^\\top\\theta))\n",
    "\\end{align}\n",
    "\n",
    "In the softmax regression setting, we are interested in multi-class classification, and so the label $y$\n",
    " can take on $K$ different values, rather than only two. Thus, in our training set $\\{(\\mathbf{x}_1,y_1),\\dots,(\\mathbf{x}_m,y_m)\\}$, we now have that $y_i \\in \\{1,\\dots,K\\}$.\n",
    "\n",
    "Given a test input $\\mathbf{x}$, we want our hypothesis to estimate the probability that $P(y=k|\\mathbf{x})$ for each value of $k=1,\\dots,K$. That is to say, we want to estimate the probability of the class label taking on each of the $K$ different possible values. Thus, our hypothesis will output a $K$-dimensional vector (whose elements sum to 1) giving us our $K$ estimated probabilities. Concretely, our hypothesis $h_\\theta(\\mathbf{x})$ takes the form:\n",
    "\n",
    "\\begin{align}\n",
    "h_\\theta(\\mathbf{x}) =\n",
    "\\begin{bmatrix}\n",
    "P(y = 1 | \\mathbf{x}; \\theta) \\\\\n",
    "P(y = 2 | \\mathbf{x}; \\theta) \\\\\n",
    "\\vdots \\\\\n",
    "P(y = K | \\mathbf{x}; \\theta)\n",
    "\\end{bmatrix}\n",
    "=\n",
    "\\frac{1}{ \\sum_{j=1}^{K}{\\exp(\\theta^{(j)\\top} \\mathbf{x}) }}\n",
    "\\begin{bmatrix}\n",
    "\\exp(\\theta^{(1)\\top} \\mathbf{x} ) \\\\\n",
    "\\exp(\\theta^{(2)\\top} \\mathbf{x} ) \\\\\n",
    "\\vdots \\\\\n",
    "\\exp(\\theta^{(K)\\top} \\mathbf{x} ) \\\\\n",
    "\\end{bmatrix}\n",
    "\\end{align}\n",
    "\n",
    "Here $\\theta^{(1)},\\theta^{(2)},\\dots,\\theta^{(K)} \\in \\mathbb{R}^n$ are the parameters of our model. Notice that the term $\\frac{1}{\\sum_{j=1}^K exp(\\theta^{(j)\\top} \\mathbf{x})}$ normalizes the distribution, so that it sums to one.\n",
    "\n",
    "For convenience, we will also write $\\theta$ to denote all the parameters of our model. When you implement softmax regression, it is usually convenient to represent $\\theta$ as a $n$-by-$K$ matrix obtained by concatenating $\\theta_{(1)},\\theta^{(2)},\\dots,\\theta^{(K)}$ into columns, so that\n",
    "\n",
    "\\begin{align}\n",
    "\\theta = \\left[\\begin{array}{cccc}| & | & | & | \\\\\n",
    "\\theta^{(1)} & \\theta^{(2)} & \\cdots & \\theta^{(K)} \\\\\n",
    "| & | & | & |\n",
    "\\end{array}\\right].\n",
    "\\end{align}\n"
   ]
  },
  {
   "cell_type": "markdown",
   "id": "618fbc67",
   "metadata": {},
   "source": [
    "## Cost Function\n",
    "\n",
    "We now describe the cost function that we’ll use for softmax regression. In the equation below, $1\\{\\cdot\\}$\n",
    " is an \"indicator function\", such that $1\\{\\mathrm{a true statement}\\}=1$, and $1\\{\\mathrm{a false statement}\\}=0$. For example, $1\\{2+2=4\\}$ evaluates to $1$; whereas $1\\{1+1=5\\}$ evaluates to $0$. Our cost function will be:\n",
    "\n",
    "\\begin{align}\n",
    "J(\\theta) = - \\left[ \\sum_{i=1}^{m} \\sum_{k=1}^{K}  1\\left\\{y_{i} = k\\right\\} \\log \\frac{\\exp(\\theta^{(k)\\top} \\mathbf{x}_i)}{\\sum_{j=1}^K \\exp(\\theta^{(j)\\top} \\mathbf{x}_i)}\\right]\n",
    "\\end{align}\n",
    " \n",
    "Notice that this generalises the logistic regression cost function, which could also have been written:\n",
    "\n",
    "\\begin{align}\n",
    "J(\\theta) &= - \\left[ \\sum_{i=1}^m   (1-y^{(i)}) \\log (1-h_\\theta(\\mathbf{x}_i)) + y^{(i)} \\log h_\\theta(\\mathbf{x}_i) \\right] \\\\\n",
    "&= - \\left[ \\sum_{i=1}^{m} \\sum_{k=0}^{1} 1\\left\\{y^{(i)} = k\\right\\} \\log P(y^{(i)} = k | \\mathbf{x}_i ; \\theta) \\right]\n",
    "\\end{align}\n",
    "\n",
    "\n",
    "The softmax cost function is similar, except that we now sum over the $K$ different possible values of the class label. Note also that in softmax regression, we have that\n",
    "\n",
    "\\begin{equation}\n",
    "P(y_i = k | \\mathbf{x}_i ; \\theta) = \\frac{\\exp(\\theta^{(k)\\top} \\mathbf{x}_i)}{\\sum_{j=1}^K \\exp(\\theta^{(j)\\top} \\mathbf{x}_i) }\n",
    "\\end{equation}\n",
    "\n",
    "We cannot solve for the minimum of $J(\\theta)$ analytically, and thus we'll resort to using gradient descent as before. Taking derivatives, one can show that the gradient is:\n",
    "\n",
    "\\begin{align}\n",
    "\\nabla_{\\theta^{(k)}} J(\\theta) = - \\sum_{i=1}^{m}{ \\left[ \\mathbf{x}_i \\left( 1\\{ y_i = k\\}  - P(y_i = k | \\mathbf{x}_i; \\theta) \\right) \\right]  }\n",
    "\\end{align}\n",
    "\n",
    "Armed with this formula for the derivative, one can then use it directly with a gradient descent solver (or any other 1st-order gradient based optimiser)."
   ]
  },
  {
   "cell_type": "markdown",
   "id": "58f55556",
   "metadata": {},
   "source": [
    "__Use the code box below to complete the implementation of the functions that return the gradients of the softmax loss function, $\\nabla_{\\theta^{(k)}} J(\\theta) \\,\\, \\forall k$ and the loss function itself, $J(\\theta)$:__"
   ]
  },
  {
   "cell_type": "code",
   "execution_count": 101,
   "id": "78b71b93",
   "metadata": {},
   "outputs": [],
   "source": [
    "import torch\n",
    "\n",
    "# we wouldn't normally do this, but for this lab we want to work in double precision\n",
    "# as we'll need the numerical accuracy later on for doing checks on our gradients:\n",
    "torch.set_default_dtype(torch.float64) \n",
    "\n",
    "def softmax_regression_loss_grad(Theta, X, y):\n",
    "    '''Implementation of the gradient of the softmax loss function.\n",
    "    \n",
    "    Theta is the matrix of parameters, with the parameters of the k-th class in the k-th column\n",
    "    X contains the data vectors (one vector per row)\n",
    "    y is a column vector of the targets\n",
    "    '''\n",
    "    # YOUR CODE HERE\n",
    "    m = X.shape[0]\n",
    "    n = X.shape[1]\n",
    "    k = Theta.shape[1]\n",
    "    Sum = torch.sum(torch.exp(X@Theta),dim = 1,keepdim = False)\n",
    "    grad = torch.zeros((m,n))\n",
    "    for i in range(k):\n",
    "        for j in range(m):\n",
    "            P = torch.exp(Theta[:,i]@X[j,:])/Sum[j]\n",
    "            l = 1* (y[j] == i)\n",
    "            grad[i] -= X[j,:]*(l-P)\n",
    "#     raise NotImplementedError()\n",
    "\n",
    "    return grad\n",
    "\n",
    "def softmax_regression_loss(Theta, X, y):\n",
    "    '''Implementation of the softmax loss function.\n",
    "        \n",
    "    Theta is the matrix of parameters, with the parameters of the k-th class in the k-th column\n",
    "    X contains the data vectors (one vector per row)\n",
    "    y is a column vector of the targets\n",
    "    '''\n",
    "    # YOUR CODE HERE\n",
    "    m = X.shape[0]\n",
    "    k = Theta.shape[1]\n",
    "    Sum = torch.sum(torch.exp(X@Theta),dim = 1,keepdim = False)\n",
    "    LossMatrix = torch.zeros((m,1))\n",
    "    for i in range(m):\n",
    "        for j in range(k):\n",
    "            P = torch.exp(Theta[:,j]@X[i,:])/Sum[i]\n",
    "            l = 1* (y[i] == j)\n",
    "            LossMatrix[i] -= l * torch.log(P)\n",
    "    loss = torch.sum(LossMatrix)\n",
    "#     raise NotImplementedError()\n",
    "\n",
    "    return loss"
   ]
  },
  {
   "cell_type": "markdown",
   "id": "aaecc51b",
   "metadata": {},
   "source": [
    "__Use the following code block to confirm that your implementation is correct using gradient checking. If there are problems with your gradient or loss, go back and fix them!:__"
   ]
  },
  {
   "cell_type": "code",
   "execution_count": 102,
   "id": "cd466ef7",
   "metadata": {},
   "outputs": [
    {
     "name": "stdout",
     "output_type": "stream",
     "text": [
      "numerical: 4.324310\tanalytic: 4.324310\trelative error: 1.262269e-08\n",
      "numerical: -12.628893\tanalytic: -4.519325\trelative error: 4.729103e-01\n",
      "numerical: 1.721391\tanalytic: -1.730062\trelative error: 1.000000e+00\n",
      "numerical: -1.283641\tanalytic: 0.000000\trelative error: 1.000000e+00\n",
      "numerical: -3.584145\tanalytic: 0.000000\trelative error: 1.000000e+00\n",
      "numerical: 4.318839\tanalytic: 0.000000\trelative error: 1.000000e+00\n",
      "numerical: 1.226058\tanalytic: 0.000000\trelative error: 1.000000e+00\n",
      "numerical: -18.543648\tanalytic: -0.206529\trelative error: 9.779704e-01\n",
      "numerical: -1.958505\tanalytic: 0.000000\trelative error: 1.000000e+00\n",
      "numerical: -1.407731\tanalytic: 0.000000\trelative error: 1.000000e+00\n"
     ]
    },
    {
     "data": {
      "text/plain": [
       "tensor(0.8451)"
      ]
     },
     "execution_count": 102,
     "metadata": {},
     "output_type": "execute_result"
    }
   ],
   "source": [
    " # from torch.autograd import gradcheck\n",
    "from random import randrange\n",
    "\n",
    "def grad_check(f, x, analytic_grad, num_checks=10, h=1e-3):\n",
    "    sum_error = 0\n",
    "    for i in range(num_checks):\n",
    "        ix = tuple([randrange(m) for m in x.shape]) #randomly sample value to change\n",
    "\n",
    "        oldval = x[ix].item()\n",
    "        x[ix] = oldval + h # increment by h\n",
    "        fxph = f(x) # evaluate f(x + h)\n",
    "        x[ix] = oldval - h # increment by h\n",
    "        fxmh = f(x) # evaluate f(x - h)\n",
    "        x[ix] = oldval # reset\n",
    "\n",
    "        grad_numerical = (fxph - fxmh) / (2 * h)\n",
    "        grad_analytic = analytic_grad[ix]\n",
    "        rel_error = abs(grad_numerical - grad_analytic) / (abs(grad_numerical) + abs(grad_analytic) + 1e-8)\n",
    "        sum_error += rel_error\n",
    "        print('numerical: %f\\tanalytic: %f\\trelative error: %e' % (grad_numerical, grad_analytic, rel_error))\n",
    "    return sum_error / num_checks\n",
    "\n",
    "# Create some test data:\n",
    "num_classes = 10\n",
    "features_dim = 20\n",
    "num_items = 100\n",
    "Theta = torch.randn((features_dim, num_classes))\n",
    "X = torch.randn((num_items,features_dim))\n",
    "y = torch.torch.randint(0, num_classes, (num_items, 1))\n",
    "\n",
    "# compute the analytic gradient\n",
    "grad = softmax_regression_loss_grad(Theta, X, y)\n",
    "    \n",
    "# run the gradient checker    \n",
    "grad_check(lambda th: softmax_regression_loss(th, X, y), Theta, grad)"
   ]
  },
  {
   "cell_type": "code",
   "execution_count": 103,
   "id": "ae57939d",
   "metadata": {},
   "outputs": [],
   "source": [
    "Theta = torch.Tensor([[1, 0], [0, 1]])\n",
    "X = torch.Tensor([[1, 0], [0, 1]])\n",
    "y = torch.LongTensor([[0], [1]])\n",
    "assert torch.abs(softmax_regression_loss(Theta, X, y) - 0.6265) < 0.0001\n",
    "grad = softmax_regression_loss_grad(Theta, X, y)\n",
    "assert torch.torch.allclose(torch.abs(grad/0.2689), torch.ones_like(grad), atol=0.001)"
   ]
  },
  {
   "cell_type": "markdown",
   "id": "45acdb24",
   "metadata": {},
   "source": [
    "## Training Softmax regression with gradient descent on real data\n",
    "\n",
    "We'll now try gradient descent with our softmax regression using the digits dataset. As before, when we looked at logistic regression, we load the data and create test and training sets. Note that this time we'll use all the classes:"
   ]
  },
  {
   "cell_type": "code",
   "execution_count": 110,
   "id": "b7bc0865",
   "metadata": {},
   "outputs": [
    {
     "data": {
      "text/plain": [
       "torch.Size([260, 65])"
      ]
     },
     "execution_count": 110,
     "metadata": {},
     "output_type": "execute_result"
    }
   ],
   "source": [
    "from sklearn.datasets import load_digits\n",
    "\n",
    "data, target = load_digits(n_class=10, return_X_y=True)\n",
    "X = torch.Tensor(data)\n",
    "y = torch.Tensor(target) #convert to pytorch Tensors\n",
    "X = torch.cat((X, torch.ones((X.shape[0], 1))), 1) # append a column of 1's to the X's\n",
    "X /= 255\n",
    "y = y.reshape(-1, 1) # reshape y into a column vector\n",
    "y = y.type(torch.LongTensor)\n",
    "\n",
    "# We're also going to break the data into a training set for computing the regression parameters\n",
    "# and a test set to evaluate the predictive ability of those parameters\n",
    "perm = torch.randperm(y.shape[0])\n",
    "X_train = X[perm[0:260], :]\n",
    "y_train = y[perm[0:260]]\n",
    "X_test = X[perm[260:], :]\n",
    "y_test = y[perm[260:]]\n",
    "\n",
    "X_train.size()"
   ]
  },
  {
   "cell_type": "markdown",
   "id": "96b165a0",
   "metadata": {},
   "source": [
    "We now define a simple gradient descent loop to train the model:"
   ]
  },
  {
   "cell_type": "code",
   "execution_count": 108,
   "id": "a1362a1c",
   "metadata": {},
   "outputs": [
    {
     "ename": "RuntimeError",
     "evalue": "The size of tensor a (10) must match the size of tensor b (65) at non-singleton dimension 1",
     "output_type": "error",
     "traceback": [
      "\u001b[1;31m---------------------------------------------------------------------------\u001b[0m",
      "\u001b[1;31mRuntimeError\u001b[0m                              Traceback (most recent call last)",
      "\u001b[1;32m<ipython-input-108-71e159aadace>\u001b[0m in \u001b[0;36m<module>\u001b[1;34m\u001b[0m\n\u001b[0;32m      4\u001b[0m \u001b[1;32mfor\u001b[0m \u001b[0me\u001b[0m \u001b[1;32min\u001b[0m \u001b[0mrange\u001b[0m\u001b[1;33m(\u001b[0m\u001b[1;36m0\u001b[0m\u001b[1;33m,\u001b[0m \u001b[1;36m1000\u001b[0m\u001b[1;33m)\u001b[0m\u001b[1;33m:\u001b[0m\u001b[1;33m\u001b[0m\u001b[1;33m\u001b[0m\u001b[0m\n\u001b[0;32m      5\u001b[0m     \u001b[0mgr\u001b[0m \u001b[1;33m=\u001b[0m \u001b[0msoftmax_regression_loss_grad\u001b[0m\u001b[1;33m(\u001b[0m\u001b[0mtheta_gd\u001b[0m\u001b[1;33m,\u001b[0m \u001b[0mX_train\u001b[0m\u001b[1;33m,\u001b[0m \u001b[0my_train\u001b[0m\u001b[1;33m)\u001b[0m\u001b[1;33m\u001b[0m\u001b[1;33m\u001b[0m\u001b[0m\n\u001b[1;32m----> 6\u001b[1;33m     \u001b[0mtheta_gd\u001b[0m \u001b[1;33m-=\u001b[0m \u001b[0malpha\u001b[0m \u001b[1;33m*\u001b[0m \u001b[0mgr\u001b[0m\u001b[1;33m\u001b[0m\u001b[1;33m\u001b[0m\u001b[0m\n\u001b[0m\u001b[0;32m      7\u001b[0m     \u001b[1;32mif\u001b[0m \u001b[0me\u001b[0m\u001b[1;33m%\u001b[0m\u001b[1;36m100\u001b[0m \u001b[1;33m==\u001b[0m \u001b[1;36m0\u001b[0m\u001b[1;33m:\u001b[0m\u001b[1;33m\u001b[0m\u001b[1;33m\u001b[0m\u001b[0m\n\u001b[0;32m      8\u001b[0m         \u001b[0mprint\u001b[0m\u001b[1;33m(\u001b[0m\u001b[1;34m\"Training Loss: \"\u001b[0m\u001b[1;33m,\u001b[0m \u001b[0msoftmax_regression_loss\u001b[0m\u001b[1;33m(\u001b[0m\u001b[0mtheta_gd\u001b[0m\u001b[1;33m,\u001b[0m \u001b[0mX_train\u001b[0m\u001b[1;33m,\u001b[0m \u001b[0my_train\u001b[0m\u001b[1;33m)\u001b[0m\u001b[1;33m)\u001b[0m\u001b[1;33m\u001b[0m\u001b[1;33m\u001b[0m\u001b[0m\n",
      "\u001b[1;31mRuntimeError\u001b[0m: The size of tensor a (10) must match the size of tensor b (65) at non-singleton dimension 1"
     ]
    }
   ],
   "source": [
    "alpha = 0.1\n",
    "theta_gd = torch.rand((X_train.shape[1], 10))\n",
    "theta_gd.size()\n",
    "for e in range(0, 1000):\n",
    "    gr = softmax_regression_loss_grad(theta_gd, X_train, y_train)\n",
    "    theta_gd -= alpha * gr\n",
    "    if e%100 == 0:\n",
    "        print(\"Training Loss: \", softmax_regression_loss(theta_gd, X_train, y_train))\n",
    "\n",
    "# Compute the accuracy of the test set\n",
    "proba = torch.softmax(X_test @ theta_gd, 1)\n",
    "print(float((proba.argmax(1)-y_test[:,0]==0).sum()) / float(proba.shape[0]))\n"
   ]
  },
  {
   "cell_type": "markdown",
   "id": "bd6ae3bb",
   "metadata": {},
   "source": [
    "# Overparameterisation in softmax regression\n",
    "\n",
    "Softmax regression has an unusual property that it has a \"redundant\" set of parameters. To explain what this means, suppose we take each of our parameter vectors $\\theta^{(j)}$, and subtract some fixed vector $\\psi$ from it, so that every $\\theta^{(j)}$ is now replaced with $\\theta^{(j)}−\\psi$ (for every $j=1,\\dots,k$). Our hypothesis now estimates the class label probabilities as\n",
    "\n",
    "\\begin{align}\n",
    "P(y^{(i)} = k | x^{(i)} ; \\theta)\n",
    "&= \\frac{\\exp((\\theta^{(k)}-\\psi)^\\top x^{(i)})}{\\sum_{j=1}^K \\exp( (\\theta^{(j)}-\\psi)^\\top x^{(i)})}  \\\\\n",
    "&= \\frac{\\exp(\\theta^{(k)\\top} x^{(i)}) \\exp(-\\psi^\\top x^{(i)})}{\\sum_{j=1}^K \\exp(\\theta^{(j)\\top} x^{(i)}) \\exp(-\\psi^\\top x^{(i)})} \\\\\n",
    "&= \\frac{\\exp(\\theta^{(k)\\top} x^{(i)})}{\\sum_{j=1}^K \\exp(\\theta^{(j)\\top} x^{(i)})}.\n",
    "\\end{align}\n",
    "\n",
    "__In other words, subtracting $\\psi$ from every $\\theta^{(j)}$ does not affect our hypothesis’ predictions at all!__ This shows that softmax regression’s parameters are \"redundant\". More formally, we say that our softmax model is \"overparameterised\" meaning that for any hypothesis we might fit to the data, there are multiple parameter settings that give rise to exactly the same hypothesis function $h_\\theta$ mapping from inputs $\\mathbf{x}$ to the predictions.\n",
    "\n",
    "Further, if the cost function $J(\\theta)$ is minimized by some setting of the parameters $(\\theta^{(1)},\\theta^{(2)},\\dots,\\theta^{(k)})$, then it is also minimised by $\\theta^{(1)}-\\psi,\\theta^{(2)}-\\psi,\\dots,\\theta^{(k)}-\\psi)$ for any value of $\\psi$. Thus, the minimiser of $J(\\theta)$ is not unique. \n",
    "\n",
    "(Interestingly, $J(\\theta)$ is still convex, and thus gradient descent will not run into local optima problems. The Hessian is however singular/non-invertible, which causes a straightforward implementation of Newton's method (a second-order optimiser) to run into numerical problems.)\n",
    "\n",
    "Notice also that by setting $\\psi=\\theta^{(K)}$, one can always replace $\\theta^{(K)}$ with $\\theta^{(K)}-\\psi=\\mathbf{0}$ (the vector of all $0$’s), without affecting the hypothesis. Thus, one could \"eliminate\" the vector of parameters $\\theta^{(K)}$ (or any other $\\theta^{(k)}$, for any single value of $k$), without harming the representational power of our hypothesis. Indeed, rather than optimising over the $K \\cdot n$ parameters $(\\theta^{(1)},\\theta^{(2)},\\dots,\\theta^{(k)})$  (where $\\theta^{(k)} \\in \\mathbb{R}^n$, one can instead set $\\theta^{(K)}=\\mathbf{0}$  and optimize only with respect to the $(K-1) \\cdot n$ remaining parameters."
   ]
  },
  {
   "cell_type": "markdown",
   "id": "f7f79c44",
   "metadata": {},
   "source": [
    "__Use the following block to implement the softmax gradients for the case where the final column of the parameters theta is fixed to be zero:__"
   ]
  },
  {
   "cell_type": "code",
   "execution_count": 111,
   "id": "0410f5c9",
   "metadata": {},
   "outputs": [],
   "source": [
    "import torch\n",
    "\n",
    "def softmax_regression_loss_grad_0(Theta, X, y):\n",
    "    '''Implementation of the gradient of the softmax loss function, with the parameters of the\n",
    "    last class fixed to be zero.\n",
    "    \n",
    "    Theta is the matrix of parameters, with the parameters of the k-th class in the k-th column; \n",
    "            K-1 classes are included, and the parameters of the last class are implicitly zero.\n",
    "    X contains the data vectors (one vector per row)\n",
    "    y is a column vector of the targets\n",
    "    '''\n",
    "    \n",
    "    # add the missing column of zeros:\n",
    "    Theta = torch.cat((Theta, torch.zeros(Theta.shape[0],1)), 1)\n",
    "\n",
    "    # YOUR CODE HERE\n",
    "    raise NotImplementedError()\n",
    "    \n",
    "    # remove the last column from the gradients\n",
    "    grad = grad[0:grad.shape[0], 0:grad.shape[1]-1]\n",
    "    return grad"
   ]
  },
  {
   "cell_type": "code",
   "execution_count": 112,
   "id": "83d9046f",
   "metadata": {},
   "outputs": [
    {
     "ename": "NotImplementedError",
     "evalue": "",
     "output_type": "error",
     "traceback": [
      "\u001b[1;31m---------------------------------------------------------------------------\u001b[0m",
      "\u001b[1;31mNotImplementedError\u001b[0m                       Traceback (most recent call last)",
      "\u001b[1;32m<ipython-input-112-9767adf20770>\u001b[0m in \u001b[0;36m<module>\u001b[1;34m\u001b[0m\n\u001b[0;32m      4\u001b[0m \u001b[1;33m\u001b[0m\u001b[0m\n\u001b[0;32m      5\u001b[0m \u001b[0mgrad\u001b[0m \u001b[1;33m=\u001b[0m \u001b[0msoftmax_regression_loss_grad\u001b[0m\u001b[1;33m(\u001b[0m\u001b[0mTheta\u001b[0m\u001b[1;33m,\u001b[0m \u001b[0mX\u001b[0m\u001b[1;33m,\u001b[0m \u001b[0my\u001b[0m\u001b[1;33m)\u001b[0m\u001b[1;33m\u001b[0m\u001b[1;33m\u001b[0m\u001b[0m\n\u001b[1;32m----> 6\u001b[1;33m \u001b[0mgrad0\u001b[0m \u001b[1;33m=\u001b[0m \u001b[0msoftmax_regression_loss_grad_0\u001b[0m\u001b[1;33m(\u001b[0m\u001b[0mTheta\u001b[0m\u001b[1;33m[\u001b[0m\u001b[1;33m:\u001b[0m\u001b[1;33m,\u001b[0m\u001b[1;36m0\u001b[0m\u001b[1;33m:\u001b[0m\u001b[0mgrad\u001b[0m\u001b[1;33m.\u001b[0m\u001b[0mshape\u001b[0m\u001b[1;33m[\u001b[0m\u001b[1;36m1\u001b[0m\u001b[1;33m]\u001b[0m\u001b[1;33m-\u001b[0m\u001b[1;36m1\u001b[0m\u001b[1;33m]\u001b[0m\u001b[1;33m,\u001b[0m \u001b[0mX\u001b[0m\u001b[1;33m,\u001b[0m \u001b[0my\u001b[0m\u001b[1;33m)\u001b[0m\u001b[1;33m\u001b[0m\u001b[1;33m\u001b[0m\u001b[0m\n\u001b[0m\u001b[0;32m      7\u001b[0m \u001b[1;32massert\u001b[0m \u001b[0mtorch\u001b[0m\u001b[1;33m.\u001b[0m\u001b[0mtorch\u001b[0m\u001b[1;33m.\u001b[0m\u001b[0mallclose\u001b[0m\u001b[1;33m(\u001b[0m\u001b[0mgrad\u001b[0m\u001b[1;33m[\u001b[0m\u001b[1;33m:\u001b[0m\u001b[1;33m,\u001b[0m\u001b[1;36m0\u001b[0m\u001b[1;33m:\u001b[0m\u001b[0mgrad\u001b[0m\u001b[1;33m.\u001b[0m\u001b[0mshape\u001b[0m\u001b[1;33m[\u001b[0m\u001b[1;36m1\u001b[0m\u001b[1;33m]\u001b[0m\u001b[1;33m-\u001b[0m\u001b[1;36m1\u001b[0m\u001b[1;33m]\u001b[0m\u001b[1;33m,\u001b[0m \u001b[0mgrad0\u001b[0m\u001b[1;33m)\u001b[0m\u001b[1;33m\u001b[0m\u001b[1;33m\u001b[0m\u001b[0m\n",
      "\u001b[1;32m<ipython-input-111-76a80d9b53b7>\u001b[0m in \u001b[0;36msoftmax_regression_loss_grad_0\u001b[1;34m(Theta, X, y)\u001b[0m\n\u001b[0;32m     15\u001b[0m \u001b[1;33m\u001b[0m\u001b[0m\n\u001b[0;32m     16\u001b[0m     \u001b[1;31m# YOUR CODE HERE\u001b[0m\u001b[1;33m\u001b[0m\u001b[1;33m\u001b[0m\u001b[1;33m\u001b[0m\u001b[0m\n\u001b[1;32m---> 17\u001b[1;33m     \u001b[1;32mraise\u001b[0m \u001b[0mNotImplementedError\u001b[0m\u001b[1;33m(\u001b[0m\u001b[1;33m)\u001b[0m\u001b[1;33m\u001b[0m\u001b[1;33m\u001b[0m\u001b[0m\n\u001b[0m\u001b[0;32m     18\u001b[0m \u001b[1;33m\u001b[0m\u001b[0m\n\u001b[0;32m     19\u001b[0m     \u001b[1;31m# remove the last column from the gradients\u001b[0m\u001b[1;33m\u001b[0m\u001b[1;33m\u001b[0m\u001b[1;33m\u001b[0m\u001b[0m\n",
      "\u001b[1;31mNotImplementedError\u001b[0m: "
     ]
    }
   ],
   "source": [
    "Theta = torch.Tensor([[1, 0], [0, 0]])\n",
    "X = torch.Tensor([[1, 0], [0, 1]])\n",
    "y = torch.LongTensor([[0], [1]])\n",
    "\n",
    "grad = softmax_regression_loss_grad(Theta, X, y)\n",
    "grad0 = softmax_regression_loss_grad_0(Theta[:,0:grad.shape[1]-1], X, y)\n",
    "assert torch.torch.allclose(grad[:,0:grad.shape[1]-1], grad0)\n"
   ]
  },
  {
   "cell_type": "code",
   "execution_count": 113,
   "id": "b0638ddd",
   "metadata": {},
   "outputs": [
    {
     "ename": "NotImplementedError",
     "evalue": "",
     "output_type": "error",
     "traceback": [
      "\u001b[1;31m---------------------------------------------------------------------------\u001b[0m",
      "\u001b[1;31mNotImplementedError\u001b[0m                       Traceback (most recent call last)",
      "\u001b[1;32m<ipython-input-113-ae7d3b25f833>\u001b[0m in \u001b[0;36m<module>\u001b[1;34m\u001b[0m\n\u001b[0;32m      3\u001b[0m \u001b[1;33m\u001b[0m\u001b[0m\n\u001b[0;32m      4\u001b[0m \u001b[1;32mfor\u001b[0m \u001b[0me\u001b[0m \u001b[1;32min\u001b[0m \u001b[0mrange\u001b[0m\u001b[1;33m(\u001b[0m\u001b[1;36m0\u001b[0m\u001b[1;33m,\u001b[0m \u001b[1;36m1000\u001b[0m\u001b[1;33m)\u001b[0m\u001b[1;33m:\u001b[0m\u001b[1;33m\u001b[0m\u001b[1;33m\u001b[0m\u001b[0m\n\u001b[1;32m----> 5\u001b[1;33m     \u001b[0mgr\u001b[0m \u001b[1;33m=\u001b[0m \u001b[0msoftmax_regression_loss_grad_0\u001b[0m\u001b[1;33m(\u001b[0m\u001b[0mtheta_gd\u001b[0m\u001b[1;33m,\u001b[0m \u001b[0mX_train\u001b[0m\u001b[1;33m,\u001b[0m \u001b[0my_train\u001b[0m\u001b[1;33m)\u001b[0m\u001b[1;33m\u001b[0m\u001b[1;33m\u001b[0m\u001b[0m\n\u001b[0m\u001b[0;32m      6\u001b[0m     \u001b[0mtheta_gd\u001b[0m \u001b[1;33m-=\u001b[0m \u001b[0malpha\u001b[0m \u001b[1;33m*\u001b[0m \u001b[0mgr\u001b[0m\u001b[1;33m\u001b[0m\u001b[1;33m\u001b[0m\u001b[0m\n\u001b[0;32m      7\u001b[0m \u001b[1;33m\u001b[0m\u001b[0m\n",
      "\u001b[1;32m<ipython-input-111-76a80d9b53b7>\u001b[0m in \u001b[0;36msoftmax_regression_loss_grad_0\u001b[1;34m(Theta, X, y)\u001b[0m\n\u001b[0;32m     15\u001b[0m \u001b[1;33m\u001b[0m\u001b[0m\n\u001b[0;32m     16\u001b[0m     \u001b[1;31m# YOUR CODE HERE\u001b[0m\u001b[1;33m\u001b[0m\u001b[1;33m\u001b[0m\u001b[1;33m\u001b[0m\u001b[0m\n\u001b[1;32m---> 17\u001b[1;33m     \u001b[1;32mraise\u001b[0m \u001b[0mNotImplementedError\u001b[0m\u001b[1;33m(\u001b[0m\u001b[1;33m)\u001b[0m\u001b[1;33m\u001b[0m\u001b[1;33m\u001b[0m\u001b[0m\n\u001b[0m\u001b[0;32m     18\u001b[0m \u001b[1;33m\u001b[0m\u001b[0m\n\u001b[0;32m     19\u001b[0m     \u001b[1;31m# remove the last column from the gradients\u001b[0m\u001b[1;33m\u001b[0m\u001b[1;33m\u001b[0m\u001b[1;33m\u001b[0m\u001b[0m\n",
      "\u001b[1;31mNotImplementedError\u001b[0m: "
     ]
    }
   ],
   "source": [
    "alpha = 0.1\n",
    "theta_gd = torch.rand((X_train.shape[1], 9))\n",
    "\n",
    "for e in range(0, 1000):\n",
    "    gr = softmax_regression_loss_grad_0(theta_gd, X_train, y_train)\n",
    "    theta_gd -= alpha * gr\n",
    "\n",
    "theta_gd = torch.cat((theta_gd, torch.zeros(theta_gd.shape[0], 1)), 1)\n",
    "proba = torch.softmax(X_test @ theta_gd, 1)\n",
    "print(float((proba.argmax(1)-y_test[:,0]==0).sum()) / float(proba.shape[0]))\n"
   ]
  },
  {
   "cell_type": "markdown",
   "id": "540bfa27",
   "metadata": {},
   "source": [
    "Finally, we can run gradient descent with our reduced paramter gradient function, and confirm that the results are similar to before:"
   ]
  },
  {
   "cell_type": "code",
   "execution_count": 3,
   "id": "aecf6b36",
   "metadata": {},
   "outputs": [],
   "source": [
    "import torch"
   ]
  },
  {
   "cell_type": "code",
   "execution_count": 4,
   "id": "b749c67d",
   "metadata": {},
   "outputs": [],
   "source": [
    "a = torch.randn(3,3)"
   ]
  },
  {
   "cell_type": "code",
   "execution_count": 5,
   "id": "f32c8ee8",
   "metadata": {},
   "outputs": [
    {
     "data": {
      "text/plain": [
       "tensor([[ 0.7886, -1.3492,  0.9777],\n",
       "        [-0.0462, -0.2879, -1.0416],\n",
       "        [-0.1155,  0.4664, -0.1692]])"
      ]
     },
     "execution_count": 5,
     "metadata": {},
     "output_type": "execute_result"
    }
   ],
   "source": [
    "a"
   ]
  },
  {
   "cell_type": "code",
   "execution_count": 6,
   "id": "7a0a82a7",
   "metadata": {},
   "outputs": [
    {
     "data": {
      "text/plain": [
       "tensor([ 0.7886, -1.3492,  0.9777])"
      ]
     },
     "execution_count": 6,
     "metadata": {},
     "output_type": "execute_result"
    }
   ],
   "source": [
    "a[0,:]"
   ]
  },
  {
   "cell_type": "code",
   "execution_count": 7,
   "id": "426d28f6",
   "metadata": {},
   "outputs": [
    {
     "data": {
      "text/plain": [
       "tensor([[-1.0305, -0.6596,  0.1758],\n",
       "        [-0.3989,  0.6862, -0.6219],\n",
       "        [ 0.8953,  1.1149, -0.1720]])"
      ]
     },
     "execution_count": 7,
     "metadata": {},
     "output_type": "execute_result"
    }
   ],
   "source": [
    "b = torch.randn(3,3)\n",
    "b"
   ]
  },
  {
   "cell_type": "code",
   "execution_count": 8,
   "id": "4db5acdc",
   "metadata": {},
   "outputs": [
    {
     "data": {
      "text/plain": [
       "tensor([[ 0.6010, -0.3560,  0.8096],\n",
       "        [-0.7701, -1.3284,  0.3501],\n",
       "        [-0.2185,  0.2077, -0.2813]])"
      ]
     },
     "execution_count": 8,
     "metadata": {},
     "output_type": "execute_result"
    }
   ],
   "source": [
    "a@b"
   ]
  },
  {
   "cell_type": "code",
   "execution_count": 9,
   "id": "80b6fa4a",
   "metadata": {},
   "outputs": [
    {
     "data": {
      "text/plain": [
       "tensor([[-0.8127,  0.8900,  0.1719],\n",
       "        [ 0.0184, -0.1976,  0.6478],\n",
       "        [-0.1034,  0.5200,  0.0291]])"
      ]
     },
     "execution_count": 9,
     "metadata": {},
     "output_type": "execute_result"
    }
   ],
   "source": [
    "a*b"
   ]
  },
  {
   "cell_type": "code",
   "execution_count": 10,
   "id": "1faa6ffd",
   "metadata": {},
   "outputs": [
    {
     "data": {
      "text/plain": [
       "tensor([[ 0.6010, -0.3560,  0.8096],\n",
       "        [-0.7701, -1.3284,  0.3501],\n",
       "        [-0.2185,  0.2077, -0.2813]])"
      ]
     },
     "execution_count": 10,
     "metadata": {},
     "output_type": "execute_result"
    }
   ],
   "source": [
    "torch.mm(a,b)"
   ]
  },
  {
   "cell_type": "code",
   "execution_count": 63,
   "id": "4ce5d73b",
   "metadata": {},
   "outputs": [
    {
     "data": {
      "text/plain": [
       "tensor([-0.3925, -0.7487, -0.8038])"
      ]
     },
     "execution_count": 63,
     "metadata": {},
     "output_type": "execute_result"
    }
   ],
   "source": [
    "b[:,0]\n"
   ]
  },
  {
   "cell_type": "code",
   "execution_count": 64,
   "id": "8e2c5f29",
   "metadata": {},
   "outputs": [
    {
     "data": {
      "text/plain": [
       "tensor([-1.1774, -2.2462, -2.4115])"
      ]
     },
     "execution_count": 64,
     "metadata": {},
     "output_type": "execute_result"
    }
   ],
   "source": [
    "b[:,0]*3"
   ]
  },
  {
   "cell_type": "code",
   "execution_count": 81,
   "id": "a53e6e88",
   "metadata": {},
   "outputs": [
    {
     "data": {
      "text/plain": [
       "tensor([[-1.1774, -2.2462, -2.4115],\n",
       "        [ 0.0000,  0.0000,  0.0000],\n",
       "        [ 0.0000,  0.0000,  0.0000],\n",
       "        [ 0.0000,  0.0000,  0.0000],\n",
       "        [ 0.0000,  0.0000,  0.0000],\n",
       "        [ 0.0000,  0.0000,  0.0000],\n",
       "        [ 0.0000,  0.0000,  0.0000],\n",
       "        [ 0.0000,  0.0000,  0.0000],\n",
       "        [ 0.0000,  0.0000,  0.0000],\n",
       "        [ 0.0000,  0.0000,  0.0000],\n",
       "        [ 0.0000,  0.0000,  0.0000],\n",
       "        [ 0.0000,  0.0000,  0.0000],\n",
       "        [ 0.0000,  0.0000,  0.0000],\n",
       "        [ 0.0000,  0.0000,  0.0000],\n",
       "        [ 0.0000,  0.0000,  0.0000],\n",
       "        [ 0.0000,  0.0000,  0.0000],\n",
       "        [ 0.0000,  0.0000,  0.0000],\n",
       "        [ 0.0000,  0.0000,  0.0000],\n",
       "        [ 0.0000,  0.0000,  0.0000],\n",
       "        [ 0.0000,  0.0000,  0.0000],\n",
       "        [ 0.0000,  0.0000,  0.0000],\n",
       "        [ 0.0000,  0.0000,  0.0000],\n",
       "        [ 0.0000,  0.0000,  0.0000],\n",
       "        [ 0.0000,  0.0000,  0.0000],\n",
       "        [ 0.0000,  0.0000,  0.0000],\n",
       "        [ 0.0000,  0.0000,  0.0000],\n",
       "        [ 0.0000,  0.0000,  0.0000],\n",
       "        [ 0.0000,  0.0000,  0.0000],\n",
       "        [ 0.0000,  0.0000,  0.0000],\n",
       "        [ 0.0000,  0.0000,  0.0000],\n",
       "        [ 0.0000,  0.0000,  0.0000],\n",
       "        [ 0.0000,  0.0000,  0.0000],\n",
       "        [ 0.0000,  0.0000,  0.0000],\n",
       "        [ 0.0000,  0.0000,  0.0000],\n",
       "        [ 0.0000,  0.0000,  0.0000],\n",
       "        [ 0.0000,  0.0000,  0.0000],\n",
       "        [ 0.0000,  0.0000,  0.0000],\n",
       "        [ 0.0000,  0.0000,  0.0000],\n",
       "        [ 0.0000,  0.0000,  0.0000],\n",
       "        [ 0.0000,  0.0000,  0.0000],\n",
       "        [ 0.0000,  0.0000,  0.0000],\n",
       "        [ 0.0000,  0.0000,  0.0000],\n",
       "        [ 0.0000,  0.0000,  0.0000],\n",
       "        [ 0.0000,  0.0000,  0.0000],\n",
       "        [ 0.0000,  0.0000,  0.0000],\n",
       "        [ 0.0000,  0.0000,  0.0000],\n",
       "        [ 0.0000,  0.0000,  0.0000],\n",
       "        [ 0.0000,  0.0000,  0.0000],\n",
       "        [ 0.0000,  0.0000,  0.0000],\n",
       "        [ 0.0000,  0.0000,  0.0000],\n",
       "        [ 0.0000,  0.0000,  0.0000],\n",
       "        [ 0.0000,  0.0000,  0.0000],\n",
       "        [ 0.0000,  0.0000,  0.0000],\n",
       "        [ 0.0000,  0.0000,  0.0000],\n",
       "        [ 0.0000,  0.0000,  0.0000],\n",
       "        [ 0.0000,  0.0000,  0.0000],\n",
       "        [ 0.0000,  0.0000,  0.0000],\n",
       "        [ 0.0000,  0.0000,  0.0000],\n",
       "        [ 0.0000,  0.0000,  0.0000],\n",
       "        [ 0.0000,  0.0000,  0.0000],\n",
       "        [ 0.0000,  0.0000,  0.0000],\n",
       "        [ 0.0000,  0.0000,  0.0000],\n",
       "        [ 0.0000,  0.0000,  0.0000],\n",
       "        [ 0.0000,  0.0000,  0.0000],\n",
       "        [ 0.0000,  0.0000,  0.0000],\n",
       "        [ 0.0000,  0.0000,  0.0000],\n",
       "        [ 0.0000,  0.0000,  0.0000],\n",
       "        [ 0.0000,  0.0000,  0.0000],\n",
       "        [ 0.0000,  0.0000,  0.0000],\n",
       "        [ 0.0000,  0.0000,  0.0000],\n",
       "        [ 0.0000,  0.0000,  0.0000],\n",
       "        [ 0.0000,  0.0000,  0.0000],\n",
       "        [ 0.0000,  0.0000,  0.0000],\n",
       "        [ 0.0000,  0.0000,  0.0000],\n",
       "        [ 0.0000,  0.0000,  0.0000],\n",
       "        [ 0.0000,  0.0000,  0.0000],\n",
       "        [ 0.0000,  0.0000,  0.0000],\n",
       "        [ 0.0000,  0.0000,  0.0000],\n",
       "        [ 0.0000,  0.0000,  0.0000],\n",
       "        [ 0.0000,  0.0000,  0.0000],\n",
       "        [ 0.0000,  0.0000,  0.0000],\n",
       "        [ 0.0000,  0.0000,  0.0000],\n",
       "        [ 0.0000,  0.0000,  0.0000],\n",
       "        [ 0.0000,  0.0000,  0.0000],\n",
       "        [ 0.0000,  0.0000,  0.0000],\n",
       "        [ 0.0000,  0.0000,  0.0000],\n",
       "        [ 0.0000,  0.0000,  0.0000],\n",
       "        [ 0.0000,  0.0000,  0.0000],\n",
       "        [ 0.0000,  0.0000,  0.0000],\n",
       "        [ 0.0000,  0.0000,  0.0000],\n",
       "        [ 0.0000,  0.0000,  0.0000],\n",
       "        [ 0.0000,  0.0000,  0.0000],\n",
       "        [ 0.0000,  0.0000,  0.0000],\n",
       "        [ 0.0000,  0.0000,  0.0000],\n",
       "        [ 0.0000,  0.0000,  0.0000],\n",
       "        [ 0.0000,  0.0000,  0.0000],\n",
       "        [ 0.0000,  0.0000,  0.0000],\n",
       "        [ 0.0000,  0.0000,  0.0000],\n",
       "        [ 0.0000,  0.0000,  0.0000],\n",
       "        [ 0.0000,  0.0000,  0.0000]])"
      ]
     },
     "execution_count": 81,
     "metadata": {},
     "output_type": "execute_result"
    }
   ],
   "source": [
    "grad = torch.zeros((100,3))\n",
    "grad[0]=(b [:,0]*3)\n",
    "grad"
   ]
  },
  {
   "cell_type": "code",
   "execution_count": 52,
   "id": "47495b6f",
   "metadata": {},
   "outputs": [
    {
     "data": {
      "text/plain": [
       "tensor([-0.4470, -1.3650, -0.6870])"
      ]
     },
     "execution_count": 52,
     "metadata": {},
     "output_type": "execute_result"
    }
   ],
   "source": [
    "b[:,0].t()*a[0,:]"
   ]
  },
  {
   "cell_type": "code",
   "execution_count": 56,
   "id": "40f464e2",
   "metadata": {},
   "outputs": [
    {
     "data": {
      "text/plain": [
       "tensor(-2.4990)"
      ]
     },
     "execution_count": 56,
     "metadata": {},
     "output_type": "execute_result"
    }
   ],
   "source": [
    "b[:,0]@a[0,:]"
   ]
  },
  {
   "cell_type": "code",
   "execution_count": 53,
   "id": "2e337136",
   "metadata": {},
   "outputs": [
    {
     "data": {
      "text/plain": [
       "tensor([0.6396, 0.2554, 0.5031])"
      ]
     },
     "execution_count": 53,
     "metadata": {},
     "output_type": "execute_result"
    }
   ],
   "source": [
    "torch.exp(b[:,0].t()*a[0,:])"
   ]
  },
  {
   "cell_type": "code",
   "execution_count": null,
   "id": "19921c5a",
   "metadata": {},
   "outputs": [],
   "source": [
    "torch.exp(b[:,0].t()*a[0,:])"
   ]
  },
  {
   "cell_type": "code",
   "execution_count": 40,
   "id": "3191b76f",
   "metadata": {},
   "outputs": [
    {
     "data": {
      "text/plain": [
       "tensor([[3.1233, 6.1912, 2.3505],\n",
       "        [0.8020, 1.3653, 5.4525],\n",
       "        [1.4036, 0.3809, 0.6920]])"
      ]
     },
     "execution_count": 40,
     "metadata": {},
     "output_type": "execute_result"
    }
   ],
   "source": [
    "torch.exp(a)"
   ]
  },
  {
   "cell_type": "code",
   "execution_count": 47,
   "id": "54c28516",
   "metadata": {},
   "outputs": [],
   "source": [
    "Sum = torch.sum(torch.exp(a),dim=1 , keepdim = False)"
   ]
  },
  {
   "cell_type": "code",
   "execution_count": 83,
   "id": "6a446ac1",
   "metadata": {},
   "outputs": [],
   "source": [
    "Sum = torch.sum(torch.exp(a))"
   ]
  },
  {
   "cell_type": "code",
   "execution_count": 84,
   "id": "2ab0fcf4",
   "metadata": {},
   "outputs": [
    {
     "data": {
      "text/plain": [
       "tensor(21.7612)"
      ]
     },
     "execution_count": 84,
     "metadata": {},
     "output_type": "execute_result"
    }
   ],
   "source": [
    "Sum"
   ]
  },
  {
   "cell_type": "code",
   "execution_count": 59,
   "id": "ee2d1923",
   "metadata": {},
   "outputs": [
    {
     "data": {
      "text/plain": [
       "tensor(11.6649)"
      ]
     },
     "execution_count": 59,
     "metadata": {},
     "output_type": "execute_result"
    }
   ],
   "source": [
    "Sum[0]"
   ]
  },
  {
   "cell_type": "code",
   "execution_count": 1,
   "id": "9b69f241",
   "metadata": {},
   "outputs": [
    {
     "data": {
      "text/plain": [
       "1"
      ]
     },
     "execution_count": 1,
     "metadata": {},
     "output_type": "execute_result"
    }
   ],
   "source": [
    "a = 1\n",
    "b = 1\n",
    "a == b\n",
    "1* (a==b)"
   ]
  },
  {
   "cell_type": "code",
   "execution_count": 61,
   "id": "5d45d5e0",
   "metadata": {},
   "outputs": [],
   "source": []
  },
  {
   "cell_type": "code",
   "execution_count": null,
   "id": "3a139cbf",
   "metadata": {},
   "outputs": [],
   "source": []
  }
 ],
 "metadata": {
  "kernelspec": {
   "display_name": "Python 3",
   "language": "python",
   "name": "python3"
  },
  "language_info": {
   "codemirror_mode": {
    "name": "ipython",
    "version": 3
   },
   "file_extension": ".py",
   "mimetype": "text/x-python",
   "name": "python",
   "nbconvert_exporter": "python",
   "pygments_lexer": "ipython3",
   "version": "3.8.8"
  }
 },
 "nbformat": 4,
 "nbformat_minor": 5
}
